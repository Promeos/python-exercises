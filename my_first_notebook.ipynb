{
 "cells": [
  {
   "cell_type": "markdown",
   "metadata": {},
   "source": [
    "## This is a list of helpful commands when working with Jupyter Notebook:\n",
    "\n",
    "1. To run code in jupyter notebooks use: __SHIFT + RETURN__\n",
    "2. To create 'note taking' cells ensure the selected cell is highlighted blue (in Command Mode) by pressing '__ESC__'. This puts the cell into modify container/cell mode. I can then press '__M__' to turn the notebook to a 'Markdown' or note taking cell. '__ESC__ + __Y__' to modify the cell into a 'code' cell."
   ]
  },
  {
   "cell_type": "markdown",
   "metadata": {},
   "source": [
    "3. Of course I can use the good ol' octothorp, or as the cool kids say, Hastag #commentsomglol to create block comments, inline comments, and comment out/in code!\n",
    "4. I can insert cells in Command Mode by pressing '__A__' to insert new cell above, or '__B__' to insert new cell below."
   ]
  },
  {
   "cell_type": "markdown",
   "metadata": {},
   "source": [
    "5. In Command Mode I can double tap '__D__' to delete cells.\n",
    "6. I can press '__H__' in Command Mode to get a list of shortcuts for jupyter notebooks.\n",
    "\n",
    "__Three Python cells with helpful commands are listed below__."
   ]
  },
  {
   "cell_type": "code",
   "execution_count": 2,
   "metadata": {},
   "outputs": [
    {
     "name": "stdout",
     "output_type": "stream",
     "text": [
      "SHIFT + RETURN to run a cell\n"
     ]
    }
   ],
   "source": [
    "print('SHIFT + RETURN to run a cell')"
   ]
  },
  {
   "cell_type": "code",
   "execution_count": 3,
   "metadata": {},
   "outputs": [
    {
     "name": "stdout",
     "output_type": "stream",
     "text": [
      "COMMAND + Z to undo a deletion/addition\n"
     ]
    }
   ],
   "source": [
    "print('COMMAND + Z to undo a deletion/addition')"
   ]
  },
  {
   "cell_type": "code",
   "execution_count": 1,
   "metadata": {
    "tags": []
   },
   "outputs": [
    {
     "output_type": "stream",
     "name": "stdout",
     "text": "COMMAND + H to get the help menu\n"
    }
   ],
   "source": [
    "print('COMMAND + H to get the help menu')"
   ]
  }
 ],
 "metadata": {
  "kernelspec": {
   "display_name": "Python 3",
   "language": "python",
   "name": "python3"
  },
  "language_info": {
   "codemirror_mode": {
    "name": "ipython",
    "version": 3
   },
   "file_extension": ".py",
   "mimetype": "text/x-python",
   "name": "python",
   "nbconvert_exporter": "python",
   "pygments_lexer": "ipython3",
   "version": "3.7.6"
  }
 },
 "nbformat": 4,
 "nbformat_minor": 4
}