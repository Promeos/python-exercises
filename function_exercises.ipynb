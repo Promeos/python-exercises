{
 "cells": [
  {
   "cell_type": "markdown",
   "metadata": {},
   "source": [
    ">After creating each function specified below, write the necessary code in order to test your function.\n",
    "\n",
    "## 1. \n",
    "Define a function named is_two. It should accept one input and return True if the passed input is either the number or the string 2, False otherwise."
   ]
  },
  {
   "cell_type": "code",
   "execution_count": 3,
   "metadata": {},
   "outputs": [
    {
     "name": "stdout",
     "output_type": "stream",
     "text": [
      "True\n",
      "True\n",
      "False\n"
     ]
    }
   ],
   "source": [
    "def is_two(number):\n",
    "    if number == '2' or int(number) == 2:\n",
    "        return True\n",
    "    else:\n",
    "        return False\n",
    "\n",
    "print(is_two('2'))\n",
    "print(is_two(2))\n",
    "print(is_two(45))"
   ]
  },
  {
   "cell_type": "markdown",
   "metadata": {},
   "source": [
    "## 2.\n",
    "> Define a function named is_vowel. It should return True if the passed string is a vowel, False otherwise."
   ]
  },
  {
   "cell_type": "code",
   "execution_count": 4,
   "metadata": {},
   "outputs": [
    {
     "name": "stdout",
     "output_type": "stream",
     "text": [
      "a is a vowel: True\n",
      "A is a vowel: True\n",
      "This sentence is a vowel: False\n",
      "G is a vowel: False\n",
      "P is a vowel: False\n"
     ]
    }
   ],
   "source": [
    "def is_vowel(character):\n",
    "    assert type(character) == str, \"is_vowel function only takes a single character\"\n",
    "    vowels = ['a', 'e', 'i', 'o', 'u']\n",
    "    \n",
    "    if character.lower() in vowels and len(character) == 1:\n",
    "        return True\n",
    "    else:\n",
    "        return False\n",
    "\n",
    "#print(is_vowel(123))\n",
    "print(('a is a vowel: {}').format(is_vowel('a')))\n",
    "print(('A is a vowel: {}').format(is_vowel('A')))\n",
    "print(('This sentence is a vowel: {}').format(\n",
    "    is_vowel('This sentence is a vowel')\n",
    "))\n",
    "print(('G is a vowel: {}').format(is_vowel('G')))\n",
    "print(('P is a vowel: {}').format(is_vowel('P')))"
   ]
  },
  {
   "cell_type": "markdown",
   "metadata": {},
   "source": [
    "## 3.\n",
    "> Define a function named is_consonant. It should return True if the passed string is a consonant, False otherwise. Use your is_vowel function to accomplish this."
   ]
  },
  {
   "cell_type": "code",
   "execution_count": 5,
   "metadata": {},
   "outputs": [
    {
     "name": "stdout",
     "output_type": "stream",
     "text": [
      "a is a consonant: False\n",
      "A is a consonant: False\n",
      "This sentence is a consonant: False\n",
      "G is a consonant: True\n",
      "P is a consonant: True\n"
     ]
    }
   ],
   "source": [
    "def is_consonant(character):\n",
    "   \n",
    "    if is_vowel(character) == False and len(character) == 1:\n",
    "        return True\n",
    "    else:\n",
    "        return False\n",
    "\n",
    "print(('a is a consonant: {}').format(is_consonant('a')))\n",
    "print(('A is a consonant: {}').format(is_consonant('A')))\n",
    "print(('This sentence is a consonant: {}').format(\n",
    "    is_consonant('This sentence contains may consonants')\n",
    "))\n",
    "print(('G is a consonant: {}').format(is_consonant('G')))\n",
    "print(('P is a consonant: {}').format(is_consonant('P')))"
   ]
  },
  {
   "cell_type": "markdown",
   "metadata": {},
   "source": [
    "## 4. \n",
    "> Define a function that accepts a string that is a word. The function should capitalize the first letter of the word if the word starts with a consonant."
   ]
  },
  {
   "cell_type": "code",
   "execution_count": 6,
   "metadata": {},
   "outputs": [
    {
     "name": "stdout",
     "output_type": "stream",
     "text": [
      "House\n",
      "Reddit\n"
     ]
    }
   ],
   "source": [
    "def is_consonant_capitalize(word):\n",
    "    vowels = ['a', 'e', 'i', 'o', 'u']\n",
    "    \n",
    "    if is_consonant(word[0]) == True:\n",
    "        return word.capitalize()\n",
    "    else:\n",
    "        return False\n",
    "\n",
    "print(is_consonant_capitalize('house'))\n",
    "print(is_consonant_capitalize('reddit'))"
   ]
  },
  {
   "cell_type": "markdown",
   "metadata": {},
   "source": [
    "## 5.\n",
    "> Define a function named calculate_tip.\n",
    "- It should accept a tip percentage (a number between 0 and 1) and the bill total, and return the amount to tip."
   ]
  },
  {
   "cell_type": "code",
   "execution_count": 7,
   "metadata": {},
   "outputs": [
    {
     "data": {
      "text/plain": [
       "25.0"
      ]
     },
     "execution_count": 7,
     "metadata": {},
     "output_type": "execute_result"
    }
   ],
   "source": [
    "def calculate_tip(tip_percentage, total_bill):\n",
    "    return tip_percentage * total_bill\n",
    "\n",
    "calculate_tip(.25, 100)"
   ]
  },
  {
   "cell_type": "markdown",
   "metadata": {},
   "source": [
    "## 6.\n",
    "> Define a function named apply_discount.\n",
    "- It should accept a original price, and a discount percentage, and return the price after the discount is applied."
   ]
  },
  {
   "cell_type": "code",
   "execution_count": 8,
   "metadata": {},
   "outputs": [
    {
     "data": {
      "text/plain": [
       "75.0"
      ]
     },
     "execution_count": 8,
     "metadata": {},
     "output_type": "execute_result"
    }
   ],
   "source": [
    "def apply_discount(original_price, discount_percentage):\n",
    "    return original_price * (1-discount_percentage)\n",
    "\n",
    "apply_discount(100, .25)"
   ]
  },
  {
   "cell_type": "markdown",
   "metadata": {},
   "source": [
    "## 7.\n",
    "> Define a function named handle_commas. \n",
    "- It should accept a string that is a number that contains commas in it as input, and return a number as output."
   ]
  },
  {
   "cell_type": "code",
   "execution_count": 9,
   "metadata": {},
   "outputs": [
    {
     "name": "stdout",
     "output_type": "stream",
     "text": [
      "100000000\n",
      "100000000000000000000\n"
     ]
    }
   ],
   "source": [
    "def handle_commas(numeric_string):\n",
    "    numeric_literal = int(numeric_string.replace(',',''))\n",
    "    return numeric_literal\n",
    "\n",
    "print(handle_commas('100,000,000'))\n",
    "print(handle_commas('10,000,0000,000,0,0,0,0,00000')) # <- lol"
   ]
  },
  {
   "cell_type": "markdown",
   "metadata": {},
   "source": [
    "## 8.\n",
    "> Define a function named get_letter_grade. It should accept a number and return the letter grade associated with that number (A-F)."
   ]
  },
  {
   "cell_type": "code",
   "execution_count": 10,
   "metadata": {},
   "outputs": [
    {
     "name": "stdout",
     "output_type": "stream",
     "text": [
      "A\n",
      "D\n",
      "None\n"
     ]
    }
   ],
   "source": [
    "def get_letter_grade(grade):\n",
    "        if grade >= 89:\n",
    "            return 'A'\n",
    "        elif grade >= 80:\n",
    "            return 'B'\n",
    "        elif grade >= 70:\n",
    "            return 'C'\n",
    "        elif grade >= 60:\n",
    "            return 'D'\n",
    "        elif grade >= 0:\n",
    "            return 'F'\n",
    "        else:\n",
    "            return None\n",
    "\n",
    "print(get_letter_grade(100))\n",
    "print(get_letter_grade(59.99999999999999999999)) # It actually rounds up to a D!?!\n",
    "print(get_letter_grade(-100))"
   ]
  },
  {
   "cell_type": "markdown",
   "metadata": {},
   "source": [
    "## 9.\n",
    "> Define a function named remove_vowels that accepts a string and returns a string with all the vowels removed."
   ]
  },
  {
   "cell_type": "code",
   "execution_count": 11,
   "metadata": {},
   "outputs": [
    {
     "name": "stdout",
     "output_type": "stream",
     "text": [
      "Hs\n",
      "Bg Chs\n"
     ]
    }
   ],
   "source": [
    "def remove_vowels(word):\n",
    "    vowels = ['a', 'e', 'i', 'o', 'u']\n",
    "    word_with_removed_vowels = ''\n",
    "    \n",
    "    for letter in word:\n",
    "        if is_consonant(letter) == True:\n",
    "            word_with_removed_vowels += letter\n",
    "    return word_with_removed_vowels\n",
    "\n",
    "print(remove_vowels('House'))\n",
    "print(remove_vowels('Big Cheese'))"
   ]
  },
  {
   "cell_type": "markdown",
   "metadata": {},
   "source": [
    "## 10.\n",
    "> Define a function named normalize_name. It should accept a string and return a valid python identifier, that is:\n",
    "\n",
    "> - anything that is not a valid python identifier should be removed\n",
    "\n",
    ">    - leading and trailing whitespace should be removed\n",
    "\n",
    ">    - everything should be lowercase\n",
    "\n",
    ">    - spaces should be replaced with underscores\n",
    "\n",
    "for example:\n",
    "\n",
    "-Name will become name\n",
    "\n",
    "-First Name will become first_name\n",
    "\n",
    "-% Completed will become completed\n"
   ]
  },
  {
   "cell_type": "code",
   "execution_count": 12,
   "metadata": {},
   "outputs": [
    {
     "name": "stdout",
     "output_type": "stream",
     "text": [
      "christopher_12345\n",
      "Come up with another variable name. That is a Python KEYWORD!\n"
     ]
    }
   ],
   "source": [
    "import keyword\n",
    "keyword.kwlist\n",
    "\n",
    "def normalize_name(word):\n",
    "    \n",
    "    word = word.lower().lstrip(\"\\\"'~`1234567890~!@#$%^&*()_+[]\\|}{};'\\\"?><\").replace(' ', '_')\n",
    "    \n",
    "    if word in keyword.kwlist:\n",
    "        return \"Come up with another variable name. That is a Python KEYWORD!\"\n",
    "    else:\n",
    "        return word\n",
    "    \n",
    "print(normalize_name('11230984701982734Christopher 12345'))\n",
    "print(normalize_name('and'))"
   ]
  },
  {
   "cell_type": "markdown",
   "metadata": {},
   "source": [
    "## 11.\n",
    "> Write a function named cumulative_sum that accepts a list of numbers and returns a list that is the cumulative sum of the numbers in the list.\n",
    "\n",
    "- cumulative_sum([1, 1, 1]) returns [1, 2, 3]\n",
    "- cumulative_sum([1, 2, 3, 4]) returns [1, 3, 6, 10]\n"
   ]
  },
  {
   "cell_type": "code",
   "execution_count": 33,
   "metadata": {},
   "outputs": [],
   "source": [
    "# This is a powerful and useful module. Incorporating accumulate function from\n",
    "# itertools to perform cumulative addition on a sequence of numbers.\n",
    "import itertools\n",
    "\n",
    "# Each iteration of index, the sum function slices the\n",
    "# the list of numbers up to BUT NOT INCLUDING the index above it!\n",
    "# The sum function adds the numbers in the sliced list together!\n",
    "# Place that iterative process in a list comprehension and bam, a sequential\n",
    "# sum of cumulative values!\n",
    "cumulative_sum = lambda sequence: list(itertools.accumulate(sequence))"
   ]
  },
  {
   "cell_type": "code",
   "execution_count": 37,
   "metadata": {},
   "outputs": [
    {
     "name": "stdout",
     "output_type": "stream",
     "text": [
      "[1, 3, 6, 10, 15, 21, 28, 36, 45, 55]\n",
      "[2, 8, 16, 18, 74, 108, 115, 123]\n"
     ]
    }
   ],
   "source": [
    "list_of_numbers = [1, 2, 3, 4, 5, 6, 7, 8, 9, 10]\n",
    "list_of_numbers2 = [2, 6, 8, 2, 56, 34, 7, 8]\n",
    "\n",
    "print(cumulative_sum(list_of_numbers))\n",
    "print(cumulative_sum(list_of_numbers2))"
   ]
  },
  {
   "cell_type": "markdown",
   "metadata": {},
   "source": [
    "# BONUS\n",
    "## 1.\n",
    "> Create a function named twelveto24. It should accept a string in the format 10:45am or 4:30pm and return a string that is the representation of the time in a 24-hour format. Bonus write a function that does the opposite."
   ]
  },
  {
   "cell_type": "code",
   "execution_count": 17,
   "metadata": {},
   "outputs": [],
   "source": [
    "def twelveto24(time_of_day):\n",
    "    clock_24_hours = ''\n",
    "    \n",
    "    time_of_day = time_of_day.lower()\n",
    "    \n",
    "    if len(time_of_day) == 6:\n",
    "        if 'am' in time_of_day:\n",
    "            clock_24_hours = '0' + time_of_day.rstrip('am')\n",
    "            return clock_24_hours\n",
    "        elif 'pm' in time_of_day:\n",
    "            clock_24_hours = str(int(time_of_day[0]) + 12) + time_of_day[1:].rstrip('pm')\n",
    "            return clock_24_hours\n",
    "        \n",
    "    elif len(time_of_day) == 7:\n",
    "        if 'am' in time_of_day:\n",
    "            if int(time_of_day[:2]) == 12:\n",
    "                clock_24_hours = \"00\" + time_of_day[2:].strip('am')\n",
    "            else:\n",
    "                clock_24_hours = time_of_day.rstrip('am')\n",
    "                return clock_24_hours\n",
    "        elif 'pm' in time_of_day:\n",
    "            if int(time_of_day[:2]) == 12:\n",
    "                clock_24_hours = time_of_day.rstrip('pm')\n",
    "                return clock_24_hours\n",
    "            else:\n",
    "                clock_24_hours = str(int(time_of_day[:2]) + 12) + time_of_day[2:].rstrip('pm')\n",
    "                return clock_24_hours"
   ]
  },
  {
   "cell_type": "code",
   "execution_count": 18,
   "metadata": {},
   "outputs": [
    {
     "name": "stdout",
     "output_type": "stream",
     "text": [
      "15:00\n"
     ]
    }
   ],
   "source": [
    "print(twelveto24('3:00pm'))"
   ]
  },
  {
   "cell_type": "markdown",
   "metadata": {},
   "source": [
    "## 2.\n",
    "> Create a function named col_index. It should accept a spreadsheet column name, and\n",
    "return the index number of the column."
   ]
  },
  {
   "cell_type": "code",
   "execution_count": 1,
   "metadata": {},
   "outputs": [],
   "source": [
    "# def col_index(column_name):\n",
    "#     column_group_value = 0\n",
    "#     last_column_value = 0\n",
    "#     total_column_value = 0\n",
    "    \n",
    "#     letter_values = {'A':1,'B':2,'C':3,'D':4,'E':5,'F':6,'G':7,'H':8,\n",
    "#                      'I':9,'J':10,'K':11,'L':12,'M':13,'N':14,'O':15,\n",
    "#                      'P':16,'Q':17,'R':18,'S':19,'T':20,'U':21,'V':22,\n",
    "#                      'W':23,'X':24,'Y':25,'Z':26}\n",
    "    \n",
    "#     if len(column_name) >= 2:\n",
    "#         for i in range(1, len(col_index)):\n",
    "#             for letter in column_name[:len(column_name)-1]: \n",
    "#                 column_group_value += (26**(len(column_name-i)) * letter_values[letter]\n",
    "  \n",
    "#     for letter in letter_values:\n",
    "#         if letter == column_name[-1]:\n",
    "#             last_column_value += letter_values[letter]\n",
    "    \n",
    "#     total_column_value = column_group_value + last_column_value\n",
    "#     return total_column_value    "
   ]
  }
 ],
 "metadata": {
  "kernelspec": {
   "display_name": "Python 3",
   "language": "python",
   "name": "python3"
  },
  "language_info": {
   "codemirror_mode": {
    "name": "ipython",
    "version": 3
   },
   "file_extension": ".py",
   "mimetype": "text/x-python",
   "name": "python",
   "nbconvert_exporter": "python",
   "pygments_lexer": "ipython3",
   "version": "3.7.6"
  }
 },
 "nbformat": 4,
 "nbformat_minor": 4
}
