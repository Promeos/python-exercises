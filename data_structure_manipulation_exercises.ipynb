{
 "cells": [
  {
   "cell_type": "markdown",
   "metadata": {},
   "source": [
    "# 20 Python Data Structure Manipulation Exercises"
   ]
  },
  {
   "cell_type": "code",
   "execution_count": 3,
   "metadata": {},
   "outputs": [],
   "source": [
    "students = [\n",
    "    {\n",
    "        \"id\": \"100001\",\n",
    "        \"student\": \"Ada Lovelace\",\n",
    "        \"coffee_preference\": \"light\",\n",
    "        \"course\": \"web development\",\n",
    "        \"grades\": [70, 91, 82, 71],\n",
    "        \"pets\": [{\"species\": \"horse\", \"age\": 8}],\n",
    "    },\n",
    "    {\n",
    "        \"id\": \"100002\",\n",
    "        \"student\": \"Thomas Bayes\",\n",
    "        \"coffee_preference\": \"medium\",\n",
    "        \"course\": \"data science\",\n",
    "        \"grades\": [75, 73, 86, 100],\n",
    "        \"pets\": [],\n",
    "    },\n",
    "    {\n",
    "        \"id\": \"100003\",\n",
    "        \"student\": \"Marie Curie\",\n",
    "        \"coffee_preference\": \"light\",\n",
    "        \"course\": \"web development\",\n",
    "        \"grades\": [70, 89, 69, 65],\n",
    "        \"pets\": [{\"species\": \"cat\", \"age\": 0}],\n",
    "    },\n",
    "    {\n",
    "        \"id\": \"100004\",\n",
    "        \"student\": \"Grace Hopper\",\n",
    "        \"coffee_preference\": \"dark\",\n",
    "        \"course\": \"data science\",\n",
    "        \"grades\": [73, 66, 83, 92],\n",
    "        \"pets\": [{\"species\": \"dog\", \"age\": 4}, {\"species\": \"cat\", \"age\": 4}],\n",
    "    },\n",
    "    {\n",
    "        \"id\": \"100005\",\n",
    "        \"student\": \"Alan Turing\",\n",
    "        \"coffee_preference\": \"dark\",\n",
    "        \"course\": \"web development\",\n",
    "        \"grades\": [78, 98, 85, 65],\n",
    "        \"pets\": [\n",
    "            {\"species\": \"horse\", \"age\": 6},\n",
    "            {\"species\": \"horse\", \"age\": 7},\n",
    "            {\"species\": \"dog\", \"age\": 5},\n",
    "        ],\n",
    "    },\n",
    "    {\n",
    "        \"id\": \"100006\",\n",
    "        \"student\": \"Rosalind Franklin\",\n",
    "        \"coffee_preference\": \"dark\",\n",
    "        \"course\": \"data science\",\n",
    "        \"grades\": [76, 70, 96, 81],\n",
    "        \"pets\": [],\n",
    "    },\n",
    "    {\n",
    "        \"id\": \"100007\",\n",
    "        \"student\": \"Elizabeth Blackwell\",\n",
    "        \"coffee_preference\": \"dark\",\n",
    "        \"course\": \"web development\",\n",
    "        \"grades\": [69, 94, 89, 86],\n",
    "        \"pets\": [{\"species\": \"cat\", \"age\": 10}],\n",
    "    },\n",
    "    {\n",
    "        \"id\": \"100008\",\n",
    "        \"student\": \"Rene Descartes\",\n",
    "        \"coffee_preference\": \"medium\",\n",
    "        \"course\": \"data science\",\n",
    "        \"grades\": [87, 79, 90, 99],\n",
    "        \"pets\": [{\"species\": \"cat\", \"age\": 10}, {\"species\": \"cat\", \"age\": 8}],\n",
    "    },\n",
    "    {\n",
    "        \"id\": \"100009\",\n",
    "        \"student\": \"Ahmed Zewail\",\n",
    "        \"coffee_preference\": \"medium\",\n",
    "        \"course\": \"data science\",\n",
    "        \"grades\": [74, 99, 93, 89],\n",
    "        \"pets\": [{\"species\": \"cat\", \"age\": 0}, {\"species\": \"cat\", \"age\": 0}],\n",
    "    },\n",
    "    {\n",
    "        \"id\": \"100010\",\n",
    "        \"student\": \"Chien-Shiung Wu\",\n",
    "        \"coffee_preference\": \"medium\",\n",
    "        \"course\": \"web development\",\n",
    "        \"grades\": [82, 92, 91, 65],\n",
    "        \"pets\": [{\"species\": \"cat\", \"age\": 8}],\n",
    "    },\n",
    "    {\n",
    "        \"id\": \"100011\",\n",
    "        \"student\": \"William Sanford Nye\",\n",
    "        \"coffee_preference\": \"dark\",\n",
    "        \"course\": \"data science\",\n",
    "        \"grades\": [70, 92, 65, 99],\n",
    "        \"pets\": [{\"species\": \"cat\", \"age\": 8}, {\"species\": \"cat\", \"age\": 5}],\n",
    "    },\n",
    "    {\n",
    "        \"id\": \"100012\",\n",
    "        \"student\": \"Carl Sagan\",\n",
    "        \"coffee_preference\": \"medium\",\n",
    "        \"course\": \"data science\",\n",
    "        \"grades\": [100, 86, 91, 87],\n",
    "        \"pets\": [{\"species\": \"cat\", \"age\": 10}],\n",
    "    },\n",
    "    {\n",
    "        \"id\": \"100013\",\n",
    "        \"student\": \"Jane Goodall\",\n",
    "        \"coffee_preference\": \"light\",\n",
    "        \"course\": \"web development\",\n",
    "        \"grades\": [80, 70, 68, 98],\n",
    "        \"pets\": [{\"species\": \"horse\", \"age\": 4}],\n",
    "    },\n",
    "    {\n",
    "        \"id\": \"100014\",\n",
    "        \"student\": \"Richard Feynman\",\n",
    "        \"coffee_preference\": \"medium\",\n",
    "        \"course\": \"web development\",\n",
    "        \"grades\": [73, 99, 86, 98],\n",
    "        \"pets\": [{\"species\": \"dog\", \"age\": 6}],\n",
    "    },\n",
    "]"
   ]
  },
  {
   "cell_type": "markdown",
   "metadata": {},
   "source": [
    "> # The following questions reference the `students` data structure above. Write the python code to answer the following questions:"
   ]
  },
  {
   "cell_type": "markdown",
   "metadata": {},
   "source": [
    "### 1.\n",
    "> How many students are there?"
   ]
  },
  {
   "cell_type": "code",
   "execution_count": 4,
   "metadata": {},
   "outputs": [
    {
     "name": "stdout",
     "output_type": "stream",
     "text": [
      "There are 14 students.\n"
     ]
    }
   ],
   "source": [
    "number_of_students = len(students)\n",
    "\n",
    "print(f\"There are {number_of_students} students.\")"
   ]
  },
  {
   "cell_type": "markdown",
   "metadata": {},
   "source": [
    "### 2. \n",
    "> How many students prefer light coffee? For each type of coffee roast?"
   ]
  },
  {
   "cell_type": "code",
   "execution_count": 5,
   "metadata": {},
   "outputs": [
    {
     "name": "stdout",
     "output_type": "stream",
     "text": [
      "Student coffee preferences {'light': 3, 'medium': 6, 'dark': 3}\n"
     ]
    }
   ],
   "source": [
    "def coffee_preference_of_students(students):\n",
    "    coffee_preference_data = {\n",
    "    'light' : len([s[\"coffee_preference\"] for s in students if(\n",
    "    s['coffee_preference'] == \"light\")]),\n",
    "    'medium' : len([s[\"coffee_preference\"] for s in students if(\n",
    "    s['coffee_preference'] == \"medium\")]),\n",
    "     'dark' : len([s[\"coffee_preference\"] for s in students if(\n",
    "    s['coffee_preference'] == \"light\")])\n",
    "    }\n",
    "    \n",
    "    return coffee_preference_data\n",
    "\n",
    "coffee_preference_count = coffee_preference_of_students(students)\n",
    "print(f\"Student coffee preferences {coffee_preference_count}\")"
   ]
  },
  {
   "cell_type": "markdown",
   "metadata": {},
   "source": [
    "### 3.\n",
    "> How many types of each pet are there?"
   ]
  },
  {
   "cell_type": "code",
   "execution_count": 6,
   "metadata": {},
   "outputs": [
    {
     "name": "stdout",
     "output_type": "stream",
     "text": [
      "horse 4\n",
      "cat 11\n",
      "dog 3\n"
     ]
    }
   ],
   "source": [
    "pet_types = {}\n",
    "\n",
    "for student in students:\n",
    "    for animal in student['pets']:\n",
    "        if animal['species'] not in pet_types:\n",
    "            pet_types[animal['species']] = 1\n",
    "        else:\n",
    "            pet_types[animal['species']] += 1\n",
    "\n",
    "for animal, count in pet_types.items():\n",
    "    print(animal, count)"
   ]
  },
  {
   "cell_type": "markdown",
   "metadata": {},
   "source": [
    "### 4.\n",
    "> How many grades does each student have? Do they all have the same number of grades?"
   ]
  },
  {
   "cell_type": "code",
   "execution_count": 7,
   "metadata": {},
   "outputs": [
    {
     "name": "stdout",
     "output_type": "stream",
     "text": [
      "        Ada Lovelace: 4 grades\n",
      "        Thomas Bayes: 4 grades\n",
      "         Marie Curie: 4 grades\n",
      "        Grace Hopper: 4 grades\n",
      "         Alan Turing: 4 grades\n",
      "   Rosalind Franklin: 4 grades\n",
      " Elizabeth Blackwell: 4 grades\n",
      "      Rene Descartes: 4 grades\n",
      "        Ahmed Zewail: 4 grades\n",
      "     Chien-Shiung Wu: 4 grades\n",
      " William Sanford Nye: 4 grades\n",
      "          Carl Sagan: 4 grades\n",
      "        Jane Goodall: 4 grades\n",
      "     Richard Feynman: 4 grades\n"
     ]
    }
   ],
   "source": [
    "for student in students:\n",
    "    for key in student:\n",
    "        if key == 'grades':\n",
    "            print(('{:>20}: {} grades').format(student['student'], len(student['grades'])))"
   ]
  },
  {
   "cell_type": "markdown",
   "metadata": {},
   "source": [
    "### 5.\n",
    "> What is each student's grade average?"
   ]
  },
  {
   "cell_type": "code",
   "execution_count": 8,
   "metadata": {},
   "outputs": [
    {
     "name": "stdout",
     "output_type": "stream",
     "text": [
      "        Ada Lovelace grade average: 78.5\n",
      "        Thomas Bayes grade average: 83.5\n",
      "         Marie Curie grade average: 73.25\n",
      "        Grace Hopper grade average: 78.5\n",
      "         Alan Turing grade average: 81.5\n",
      "   Rosalind Franklin grade average: 80.75\n",
      " Elizabeth Blackwell grade average: 84.5\n",
      "      Rene Descartes grade average: 88.75\n",
      "        Ahmed Zewail grade average: 88.75\n",
      "     Chien-Shiung Wu grade average: 82.5\n",
      " William Sanford Nye grade average: 81.5\n",
      "          Carl Sagan grade average: 91.0\n",
      "        Jane Goodall grade average: 79.0\n",
      "     Richard Feynman grade average: 89.0\n"
     ]
    }
   ],
   "source": [
    "def grade_average(list_of_numbers):\n",
    "    return sum(list_of_numbers)/len(list_of_numbers)\n",
    "\n",
    "for student in students:\n",
    "    for key in student:\n",
    "        if key == 'grades':\n",
    "            print(('{:>20} grade average: {}').format(student['student'], \n",
    "                                                      grade_average(student['grades'])))"
   ]
  },
  {
   "cell_type": "markdown",
   "metadata": {},
   "source": [
    "### 6.\n",
    "> How many pets does each student have?"
   ]
  },
  {
   "cell_type": "code",
   "execution_count": 9,
   "metadata": {},
   "outputs": [
    {
     "name": "stdout",
     "output_type": "stream",
     "text": [
      "        Ada Lovelace has 1 pet\n",
      "        Thomas Bayes has 0 pets\n",
      "         Marie Curie has 1 pet\n",
      "        Grace Hopper has 2 pets\n",
      "         Alan Turing has 3 pets\n",
      "   Rosalind Franklin has 0 pets\n",
      " Elizabeth Blackwell has 1 pet\n",
      "      Rene Descartes has 2 pets\n",
      "        Ahmed Zewail has 2 pets\n",
      "     Chien-Shiung Wu has 1 pet\n",
      " William Sanford Nye has 2 pets\n",
      "          Carl Sagan has 1 pet\n",
      "        Jane Goodall has 1 pet\n",
      "     Richard Feynman has 1 pet\n"
     ]
    }
   ],
   "source": [
    "for student in students:\n",
    "    for key in student:\n",
    "        if key == 'pets':\n",
    "            if len(student['pets']) < 2 and len(student['pets']) > 0:\n",
    "                print((\"{:>20} has {} pet\").format(student['student'] ,\n",
    "                                                   len(student['pets'])))\n",
    "            else:\n",
    "                print((\"{:>20} has {} pets\").format(student['student'] ,\n",
    "                                                    len(student['pets'])))"
   ]
  },
  {
   "cell_type": "markdown",
   "metadata": {},
   "source": [
    "## 7.\n",
    "> How many students are in web development? data science?"
   ]
  },
  {
   "cell_type": "code",
   "execution_count": 10,
   "metadata": {},
   "outputs": [
    {
     "name": "stdout",
     "output_type": "stream",
     "text": [
      "Number of students enrolled in data science: 7\n",
      "Number of students enrolled in web development: 7\n"
     ]
    }
   ],
   "source": [
    "course_types = [s['course'] for s in students]\n",
    "enrolled_in_data_science = course_types.count('data science')\n",
    "enrolled_in_web_development = course_types.count('web development')\n",
    "\n",
    "print(f\"Number of students enrolled in data science: {enrolled_in_data_science}\")\n",
    "print(f\"Number of students enrolled in web development: {enrolled_in_web_development}\")"
   ]
  },
  {
   "cell_type": "markdown",
   "metadata": {},
   "source": [
    "### 8\n",
    "> What is the average number of pets for students in web development?"
   ]
  },
  {
   "cell_type": "code",
   "execution_count": 11,
   "metadata": {},
   "outputs": [
    {
     "name": "stdout",
     "output_type": "stream",
     "text": [
      "Average number of pets for web development students: 1.0\n"
     ]
    }
   ],
   "source": [
    "web_development_pets = len(\n",
    "    [s['pets'] for s in students if s['course'] == 'web development'])\n",
    "\n",
    "avg_num_of_pets_web_dev = web_development_pets / enrolled_in_web_development\n",
    "\n",
    "print(f\"Average number of pets for web development students: {avg_num_of_pets_web_dev}\")"
   ]
  },
  {
   "cell_type": "markdown",
   "metadata": {},
   "source": [
    "### 9.\n",
    "> What is the average pet age for students in data science?"
   ]
  },
  {
   "cell_type": "code",
   "execution_count": 12,
   "metadata": {},
   "outputs": [
    {
     "name": "stdout",
     "output_type": "stream",
     "text": [
      "Average pet age for data science students: 5.44 years\n"
     ]
    }
   ],
   "source": [
    "ds_pet_ages = []\n",
    "\n",
    "for student in students:\n",
    "    if student['course'] == 'data science':\n",
    "        for age in student['pets']:\n",
    "            ds_pet_ages.append(age['age'])\n",
    "        \n",
    "average_ds_pet_age = round(sum(ds_pet_ages)/len(ds_pet_ages), 2)\n",
    "\n",
    "print(f\"Average pet age for data science students: {average_ds_pet_age} years\")"
   ]
  },
  {
   "cell_type": "markdown",
   "metadata": {},
   "source": [
    "### 10.\n",
    "> What is most frequent coffee preference for data science students?"
   ]
  },
  {
   "cell_type": "code",
   "execution_count": null,
   "metadata": {},
   "outputs": [],
   "source": [
    "# Here I practice importing a module - collections module\n",
    "from collections import Counter\n",
    "\n",
    "Counter?"
   ]
  },
  {
   "cell_type": "code",
   "execution_count": 82,
   "metadata": {},
   "outputs": [
    {
     "name": "stdout",
     "output_type": "stream",
     "text": [
      "Most frequent coffee preference for data science students: 3 --- dark\n"
     ]
    }
   ],
   "source": [
    "# I can use the Counter function to return the elements from a list\n",
    "# as a dictionary:\n",
    "# key = `coffee_preference` - the element in the list\n",
    "# value = roast type - number of times element appears in a list\n",
    "# I encapsulate the Counter function in the dict() function to cast Counter -> dict\n",
    "ds_coffee_pref_freq = dict(Counter([s['coffee_preference'] for s in students if(\n",
    "s['course'] == 'data science')]))\n",
    "\n",
    "# Once I filter the data for coffee preferences held by data science students\n",
    "# with a for each coffee preference I can print the results\n",
    "# print((ds_coffee_pref_freq))\n",
    "\n",
    "print((\"Most frequent coffee preference for data science students: {} --- dark\").format(\n",
    "    ds_coffee_pref_freq['dark']))"
   ]
  },
  {
   "cell_type": "markdown",
   "metadata": {},
   "source": [
    "### 11.\n",
    "> What is the least frequent coffee preference for web development students?"
   ]
  },
  {
   "cell_type": "code",
   "execution_count": 84,
   "metadata": {},
   "outputs": [
    {
     "name": "stdout",
     "output_type": "stream",
     "text": [
      "The least frequent coffee preference for web development studets: 2 medium, 2 dark\n"
     ]
    }
   ],
   "source": [
    "# Using the Counter function to create another frequency dict\n",
    "wd_coffee_pref_freq = dict(Counter([s['coffee_preference'] for s in students if(\n",
    "s['course'] == 'web development')]))\n",
    "\n",
    "# Once I filter the data for coffee preferences held by web dev. students\n",
    "# with a count for each coffee preference I can print the results\n",
    "# print(wd_coffee_pref_freq)\n",
    "\n",
    "print((\"The least frequent coffee preference for web development studets\"\n",
    "       \": {} medium\"\n",
    "       \", {} dark\").format(\n",
    "    wd_coffee_pref_freq['medium'], wd_coffee_pref_freq['dark'])\n",
    "     )"
   ]
  },
  {
   "cell_type": "markdown",
   "metadata": {},
   "source": [
    "### 12.\n",
    "> What is the average grade for students with at least 2 pets?"
   ]
  },
  {
   "cell_type": "code",
   "execution_count": 89,
   "metadata": {},
   "outputs": [
    {
     "name": "stdout",
     "output_type": "stream",
     "text": [
      "[314, 334, 293, 314, 323, 338, 355, 355, 330, 326, 364, 316, 356]\n",
      "Average grade for students with two pets: 83.04\n"
     ]
    }
   ],
   "source": [
    "students_with_at_least_two_pets = [sum(student['grades']) for student in students if(\n",
    "len(student['pets']) <= 2)]\n",
    "\n",
    "print(students_with_at_least_two_pets)\n",
    "\n",
    "avg_grade_of_students_with_2_pets = round(grade_average(students_with_two_pets)/4, 2)\n",
    "\n",
    "print((\"Average grade for students with two pets: {}\").format(avg_grade_of_students_with_2_pets))"
   ]
  },
  {
   "cell_type": "markdown",
   "metadata": {},
   "source": [
    "### 13.\n",
    ">How many students have 3 pets?"
   ]
  },
  {
   "cell_type": "code",
   "execution_count": null,
   "metadata": {},
   "outputs": [],
   "source": []
  },
  {
   "cell_type": "markdown",
   "metadata": {},
   "source": [
    "### 14.\n",
    "> What is the average grade for students with 0 pets?"
   ]
  },
  {
   "cell_type": "code",
   "execution_count": null,
   "metadata": {},
   "outputs": [],
   "source": []
  },
  {
   "cell_type": "markdown",
   "metadata": {},
   "source": [
    "### 15.\n",
    "> What is the average grade for web development students? data science students?"
   ]
  },
  {
   "cell_type": "code",
   "execution_count": null,
   "metadata": {},
   "outputs": [],
   "source": []
  },
  {
   "cell_type": "markdown",
   "metadata": {},
   "source": [
    "### 16.\n",
    "> What is the average grade range (i.e. highest grade - lowest grade) for dark coffee drinkers?"
   ]
  },
  {
   "cell_type": "code",
   "execution_count": null,
   "metadata": {},
   "outputs": [],
   "source": []
  },
  {
   "cell_type": "markdown",
   "metadata": {},
   "source": [
    "### 17.\n",
    "> What is the average number of pets for medium coffee drinkers?"
   ]
  },
  {
   "cell_type": "code",
   "execution_count": null,
   "metadata": {},
   "outputs": [],
   "source": []
  },
  {
   "cell_type": "markdown",
   "metadata": {},
   "source": [
    "### 18.\n",
    "> What is the most common type of pet for web development students?"
   ]
  },
  {
   "cell_type": "code",
   "execution_count": null,
   "metadata": {},
   "outputs": [],
   "source": []
  },
  {
   "cell_type": "markdown",
   "metadata": {},
   "source": [
    "### 19.\n",
    "> What is the average name length?"
   ]
  },
  {
   "cell_type": "code",
   "execution_count": null,
   "metadata": {},
   "outputs": [],
   "source": []
  },
  {
   "cell_type": "markdown",
   "metadata": {},
   "source": [
    "### 20.\n",
    "> What is the highest pet age for light coffee drinkers?"
   ]
  },
  {
   "cell_type": "code",
   "execution_count": null,
   "metadata": {},
   "outputs": [],
   "source": []
  }
 ],
 "metadata": {
  "kernelspec": {
   "display_name": "Python 3",
   "language": "python",
   "name": "python3"
  },
  "language_info": {
   "codemirror_mode": {
    "name": "ipython",
    "version": 3
   },
   "file_extension": ".py",
   "mimetype": "text/x-python",
   "name": "python",
   "nbconvert_exporter": "python",
   "pygments_lexer": "ipython3",
   "version": "3.7.6"
  }
 },
 "nbformat": 4,
 "nbformat_minor": 4
}
