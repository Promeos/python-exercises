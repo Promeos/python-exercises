{
 "cells": [
  {
   "cell_type": "markdown",
   "metadata": {},
   "source": [
    "# 20 Python Data Structure Manipulation Exercises\n",
    "\n",
    "The following questions reference the `students` data structure below. Write\n",
    "the python code to answer the following questions:\n",
    "\n",
    "\n",
    "1. What is each student's grade average?\n",
    "1. How many pets does each student have?\n",
    "1. How many students are in web development? data science?\n",
    "1. What is the average number of pets for students in web development?\n",
    "1. What is the average pet age for students in data science?\n",
    "1. What is most frequent coffee preference for data science students?\n",
    "1. What is the least frequent coffee preference for web development students?\n",
    "1. What is the average grade for students with at least 2 pets?\n",
    "1. How many students have 3 pets?\n",
    "1. What is the average grade for students with 0 pets?\n",
    "1. What is the average grade for web development students? data science\n",
    "students?\n",
    "1. What is the average grade range (i.e. highest grade - lowest grade) for\n",
    "dark coffee drinkers?\n",
    "1. What is the average number of pets for medium coffee drinkers?\n",
    "1. What is the most common type of pet for web development students?\n",
    "1. What is the average name length?\n",
    "1. What is the highest pet age for light coffee drinkers?\n"
   ]
  },
  {
   "cell_type": "code",
   "execution_count": 15,
   "metadata": {},
   "outputs": [],
   "source": [
    "students = [\n",
    "    {\n",
    "        \"id\": \"100001\",\n",
    "        \"student\": \"Ada Lovelace\",\n",
    "        \"coffee_preference\": \"light\",\n",
    "        \"course\": \"web development\",\n",
    "        \"grades\": [70, 91, 82, 71],\n",
    "        \"pets\": [{\"species\": \"horse\", \"age\": 8}],\n",
    "    },\n",
    "    {\n",
    "        \"id\": \"100002\",\n",
    "        \"student\": \"Thomas Bayes\",\n",
    "        \"coffee_preference\": \"medium\",\n",
    "        \"course\": \"data science\",\n",
    "        \"grades\": [75, 73, 86, 100],\n",
    "        \"pets\": [],\n",
    "    },\n",
    "    {\n",
    "        \"id\": \"100003\",\n",
    "        \"student\": \"Marie Curie\",\n",
    "        \"coffee_preference\": \"light\",\n",
    "        \"course\": \"web development\",\n",
    "        \"grades\": [70, 89, 69, 65],\n",
    "        \"pets\": [{\"species\": \"cat\", \"age\": 0}],\n",
    "    },\n",
    "    {\n",
    "        \"id\": \"100004\",\n",
    "        \"student\": \"Grace Hopper\",\n",
    "        \"coffee_preference\": \"dark\",\n",
    "        \"course\": \"data science\",\n",
    "        \"grades\": [73, 66, 83, 92],\n",
    "        \"pets\": [{\"species\": \"dog\", \"age\": 4}, {\"species\": \"cat\", \"age\": 4}],\n",
    "    },\n",
    "    {\n",
    "        \"id\": \"100005\",\n",
    "        \"student\": \"Alan Turing\",\n",
    "        \"coffee_preference\": \"dark\",\n",
    "        \"course\": \"web development\",\n",
    "        \"grades\": [78, 98, 85, 65],\n",
    "        \"pets\": [\n",
    "            {\"species\": \"horse\", \"age\": 6},\n",
    "            {\"species\": \"horse\", \"age\": 7},\n",
    "            {\"species\": \"dog\", \"age\": 5},\n",
    "        ],\n",
    "    },\n",
    "    {\n",
    "        \"id\": \"100006\",\n",
    "        \"student\": \"Rosalind Franklin\",\n",
    "        \"coffee_preference\": \"dark\",\n",
    "        \"course\": \"data science\",\n",
    "        \"grades\": [76, 70, 96, 81],\n",
    "        \"pets\": [],\n",
    "    },\n",
    "    {\n",
    "        \"id\": \"100007\",\n",
    "        \"student\": \"Elizabeth Blackwell\",\n",
    "        \"coffee_preference\": \"dark\",\n",
    "        \"course\": \"web development\",\n",
    "        \"grades\": [69, 94, 89, 86],\n",
    "        \"pets\": [{\"species\": \"cat\", \"age\": 10}],\n",
    "    },\n",
    "    {\n",
    "        \"id\": \"100008\",\n",
    "        \"student\": \"Rene Descartes\",\n",
    "        \"coffee_preference\": \"medium\",\n",
    "        \"course\": \"data science\",\n",
    "        \"grades\": [87, 79, 90, 99],\n",
    "        \"pets\": [{\"species\": \"cat\", \"age\": 10}, {\"species\": \"cat\", \"age\": 8}],\n",
    "    },\n",
    "    {\n",
    "        \"id\": \"100009\",\n",
    "        \"student\": \"Ahmed Zewail\",\n",
    "        \"coffee_preference\": \"medium\",\n",
    "        \"course\": \"data science\",\n",
    "        \"grades\": [74, 99, 93, 89],\n",
    "        \"pets\": [{\"species\": \"cat\", \"age\": 0}, {\"species\": \"cat\", \"age\": 0}],\n",
    "    },\n",
    "    {\n",
    "        \"id\": \"100010\",\n",
    "        \"student\": \"Chien-Shiung Wu\",\n",
    "        \"coffee_preference\": \"medium\",\n",
    "        \"course\": \"web development\",\n",
    "        \"grades\": [82, 92, 91, 65],\n",
    "        \"pets\": [{\"species\": \"cat\", \"age\": 8}],\n",
    "    },\n",
    "    {\n",
    "        \"id\": \"100011\",\n",
    "        \"student\": \"William Sanford Nye\",\n",
    "        \"coffee_preference\": \"dark\",\n",
    "        \"course\": \"data science\",\n",
    "        \"grades\": [70, 92, 65, 99],\n",
    "        \"pets\": [{\"species\": \"cat\", \"age\": 8}, {\"species\": \"cat\", \"age\": 5}],\n",
    "    },\n",
    "    {\n",
    "        \"id\": \"100012\",\n",
    "        \"student\": \"Carl Sagan\",\n",
    "        \"coffee_preference\": \"medium\",\n",
    "        \"course\": \"data science\",\n",
    "        \"grades\": [100, 86, 91, 87],\n",
    "        \"pets\": [{\"species\": \"cat\", \"age\": 10}],\n",
    "    },\n",
    "    {\n",
    "        \"id\": \"100013\",\n",
    "        \"student\": \"Jane Goodall\",\n",
    "        \"coffee_preference\": \"light\",\n",
    "        \"course\": \"web development\",\n",
    "        \"grades\": [80, 70, 68, 98],\n",
    "        \"pets\": [{\"species\": \"horse\", \"age\": 4}],\n",
    "    },\n",
    "    {\n",
    "        \"id\": \"100014\",\n",
    "        \"student\": \"Richard Feynman\",\n",
    "        \"coffee_preference\": \"medium\",\n",
    "        \"course\": \"web development\",\n",
    "        \"grades\": [73, 99, 86, 98],\n",
    "        \"pets\": [{\"species\": \"dog\", \"age\": 6}],\n",
    "    },\n",
    "]"
   ]
  },
  {
   "cell_type": "markdown",
   "metadata": {},
   "source": [
    "1. How many students are there?"
   ]
  },
  {
   "cell_type": "code",
   "execution_count": 16,
   "metadata": {},
   "outputs": [
    {
     "name": "stdout",
     "output_type": "stream",
     "text": [
      "There are 14 students.\n"
     ]
    }
   ],
   "source": [
    "print(f'There are {len(students)} students.')"
   ]
  },
  {
   "cell_type": "markdown",
   "metadata": {},
   "source": [
    "2. How many students prefer light coffee? For each type of coffee roast?"
   ]
  },
  {
   "cell_type": "code",
   "execution_count": 34,
   "metadata": {},
   "outputs": [
    {
     "name": "stdout",
     "output_type": "stream",
     "text": [
      "The poll is in...\n",
      "Light Roast: 3\n",
      "Medium Roast: 6\n",
      "Dark Roast: 5\n"
     ]
    }
   ],
   "source": [
    "light_count = 0\n",
    "medium_count = 0\n",
    "dark_count = 0\n",
    "\n",
    "for student in students:\n",
    "    for key in student:\n",
    "        if key == 'coffee_preference':\n",
    "            if student['coffee_preference'] == 'light':\n",
    "                light_count += 1\n",
    "            elif student['coffee_preference'] == 'medium':\n",
    "                medium_count += 1\n",
    "            elif student['coffee_preference'] == 'dark':\n",
    "                dark_count += 1\n",
    "print(('The poll is in...'\n",
    "       '\\nLight Roast: {}'\n",
    "       '\\nMedium Roast: {}'\n",
    "       '\\nDark Roast: {}').format(light_count, medium_count, dark_count)\n",
    "     )"
   ]
  },
  {
   "cell_type": "markdown",
   "metadata": {},
   "source": [
    "3. How many types of each pet are there?"
   ]
  },
  {
   "cell_type": "code",
   "execution_count": 89,
   "metadata": {},
   "outputs": [
    {
     "name": "stdout",
     "output_type": "stream",
     "text": [
      "horse 4\n",
      "cat 11\n",
      "dog 3\n"
     ]
    }
   ],
   "source": [
    "pet_types = {}\n",
    "\n",
    "for student in students:\n",
    "    for animal in student['pets']:\n",
    "        if animal['species'] not in pet_types:\n",
    "            pet_types[animal['species']] = 1\n",
    "        else:\n",
    "            pet_types[animal['species']] += 1\n",
    "\n",
    "for animal, count in pet_types.items():\n",
    "    print(animal, count)"
   ]
  },
  {
   "cell_type": "markdown",
   "metadata": {},
   "source": [
    "4. How many grades does each student have? Do they all have the same number of grades?"
   ]
  },
  {
   "cell_type": "code",
   "execution_count": 92,
   "metadata": {},
   "outputs": [
    {
     "name": "stdout",
     "output_type": "stream",
     "text": [
      "        Ada Lovelace: 4 grades\n",
      "        Thomas Bayes: 4 grades\n",
      "         Marie Curie: 4 grades\n",
      "        Grace Hopper: 4 grades\n",
      "         Alan Turing: 4 grades\n",
      "   Rosalind Franklin: 4 grades\n",
      " Elizabeth Blackwell: 4 grades\n",
      "      Rene Descartes: 4 grades\n",
      "        Ahmed Zewail: 4 grades\n",
      "     Chien-Shiung Wu: 4 grades\n",
      " William Sanford Nye: 4 grades\n",
      "          Carl Sagan: 4 grades\n",
      "        Jane Goodall: 4 grades\n",
      "     Richard Feynman: 4 grades\n"
     ]
    }
   ],
   "source": [
    "for student in students:\n",
    "    for key in student:\n",
    "        if key == 'grades':\n",
    "            print(('{:>20}: {} grades').format(student['student'], len(student['grades'])))"
   ]
  },
  {
   "cell_type": "markdown",
   "metadata": {},
   "source": [
    "5. What is each student's grade average?"
   ]
  },
  {
   "cell_type": "code",
   "execution_count": 103,
   "metadata": {},
   "outputs": [
    {
     "name": "stdout",
     "output_type": "stream",
     "text": [
      "        Ada Lovelace grade average is 78.5\n",
      "        Thomas Bayes grade average is 83.5\n",
      "         Marie Curie grade average is 73.25\n",
      "        Grace Hopper grade average is 78.5\n",
      "         Alan Turing grade average is 81.5\n",
      "   Rosalind Franklin grade average is 80.75\n",
      " Elizabeth Blackwell grade average is 84.5\n",
      "      Rene Descartes grade average is 88.75\n",
      "        Ahmed Zewail grade average is 88.75\n",
      "     Chien-Shiung Wu grade average is 82.5\n",
      " William Sanford Nye grade average is 81.5\n",
      "          Carl Sagan grade average is 91.0\n",
      "        Jane Goodall grade average is 79.0\n",
      "     Richard Feynman grade average is 89.0\n"
     ]
    }
   ],
   "source": [
    "for student in students:\n",
    "    average_grade = sum(student['grades'])/len(student['grades'])\n",
    "    print(('{:>20} grade average is {}').format(student['student'], average_grade))"
   ]
  },
  {
   "cell_type": "code",
   "execution_count": null,
   "metadata": {},
   "outputs": [],
   "source": []
  },
  {
   "cell_type": "code",
   "execution_count": null,
   "metadata": {},
   "outputs": [],
   "source": []
  },
  {
   "cell_type": "code",
   "execution_count": null,
   "metadata": {},
   "outputs": [],
   "source": []
  },
  {
   "cell_type": "code",
   "execution_count": null,
   "metadata": {},
   "outputs": [],
   "source": []
  },
  {
   "cell_type": "code",
   "execution_count": null,
   "metadata": {},
   "outputs": [],
   "source": []
  },
  {
   "cell_type": "code",
   "execution_count": null,
   "metadata": {},
   "outputs": [],
   "source": []
  },
  {
   "cell_type": "code",
   "execution_count": null,
   "metadata": {},
   "outputs": [],
   "source": []
  },
  {
   "cell_type": "code",
   "execution_count": null,
   "metadata": {},
   "outputs": [],
   "source": []
  }
 ],
 "metadata": {
  "kernelspec": {
   "display_name": "Python 3",
   "language": "python",
   "name": "python3"
  },
  "language_info": {
   "codemirror_mode": {
    "name": "ipython",
    "version": 3
   },
   "file_extension": ".py",
   "mimetype": "text/x-python",
   "name": "python",
   "nbconvert_exporter": "python",
   "pygments_lexer": "ipython3",
   "version": "3.7.6"
  }
 },
 "nbformat": 4,
 "nbformat_minor": 4
}
