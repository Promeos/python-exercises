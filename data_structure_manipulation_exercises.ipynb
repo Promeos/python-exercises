{
 "cells": [
  {
   "cell_type": "markdown",
   "metadata": {},
   "source": [
    "# 20 Python Data Structure Manipulation Exercises\n",
    "\n",
    "Creator: `Zach Gulde`\n",
    "\n",
    "   > Title(s): `instructions.md`, `instructions.py`\n",
    "    \n",
    "   > Date: February 18th, 2020\n",
    "    \n",
    "   > Source: https://gist.github.com/zgulde/2043cba6072fe5b55b272513ae575577\n"
   ]
  },
  {
   "cell_type": "code",
   "execution_count": 2,
   "metadata": {
    "ExecuteTime": {
     "end_time": "2020-08-09T22:34:25.752802Z",
     "start_time": "2020-08-09T22:34:25.735225Z"
    }
   },
   "outputs": [],
   "source": [
    "students = [\n",
    "    {\n",
    "        \"id\": \"100001\",\n",
    "        \"student\": \"Ada Lovelace\",\n",
    "        \"coffee_preference\": \"light\",\n",
    "        \"course\": \"web development\",\n",
    "        \"grades\": [70, 91, 82, 71],\n",
    "        \"pets\": [{\"species\": \"horse\", \"age\": 8}],\n",
    "    },\n",
    "    {\n",
    "        \"id\": \"100002\",\n",
    "        \"student\": \"Thomas Bayes\",\n",
    "        \"coffee_preference\": \"medium\",\n",
    "        \"course\": \"data science\",\n",
    "        \"grades\": [75, 73, 86, 100],\n",
    "        \"pets\": [],\n",
    "    },\n",
    "    {\n",
    "        \"id\": \"100003\",\n",
    "        \"student\": \"Marie Curie\",\n",
    "        \"coffee_preference\": \"light\",\n",
    "        \"course\": \"web development\",\n",
    "        \"grades\": [70, 89, 69, 65],\n",
    "        \"pets\": [{\"species\": \"cat\", \"age\": 0}],\n",
    "    },\n",
    "    {\n",
    "        \"id\": \"100004\",\n",
    "        \"student\": \"Grace Hopper\",\n",
    "        \"coffee_preference\": \"dark\",\n",
    "        \"course\": \"data science\",\n",
    "        \"grades\": [73, 66, 83, 92],\n",
    "        \"pets\": [{\"species\": \"dog\", \"age\": 4}, {\"species\": \"cat\", \"age\": 4}],\n",
    "    },\n",
    "    {\n",
    "        \"id\": \"100005\",\n",
    "        \"student\": \"Alan Turing\",\n",
    "        \"coffee_preference\": \"dark\",\n",
    "        \"course\": \"web development\",\n",
    "        \"grades\": [78, 98, 85, 65],\n",
    "        \"pets\": [\n",
    "            {\"species\": \"horse\", \"age\": 6},\n",
    "            {\"species\": \"horse\", \"age\": 7},\n",
    "            {\"species\": \"dog\", \"age\": 5},\n",
    "        ],\n",
    "    },\n",
    "    {\n",
    "        \"id\": \"100006\",\n",
    "        \"student\": \"Rosalind Franklin\",\n",
    "        \"coffee_preference\": \"dark\",\n",
    "        \"course\": \"data science\",\n",
    "        \"grades\": [76, 70, 96, 81],\n",
    "        \"pets\": [],\n",
    "    },\n",
    "    {\n",
    "        \"id\": \"100007\",\n",
    "        \"student\": \"Elizabeth Blackwell\",\n",
    "        \"coffee_preference\": \"dark\",\n",
    "        \"course\": \"web development\",\n",
    "        \"grades\": [69, 94, 89, 86],\n",
    "        \"pets\": [{\"species\": \"cat\", \"age\": 10}],\n",
    "    },\n",
    "    {\n",
    "        \"id\": \"100008\",\n",
    "        \"student\": \"Rene Descartes\",\n",
    "        \"coffee_preference\": \"medium\",\n",
    "        \"course\": \"data science\",\n",
    "        \"grades\": [87, 79, 90, 99],\n",
    "        \"pets\": [{\"species\": \"cat\", \"age\": 10}, {\"species\": \"cat\", \"age\": 8}],\n",
    "    },\n",
    "    {\n",
    "        \"id\": \"100009\",\n",
    "        \"student\": \"Ahmed Zewail\",\n",
    "        \"coffee_preference\": \"medium\",\n",
    "        \"course\": \"data science\",\n",
    "        \"grades\": [74, 99, 93, 89],\n",
    "        \"pets\": [{\"species\": \"cat\", \"age\": 0}, {\"species\": \"cat\", \"age\": 0}],\n",
    "    },\n",
    "    {\n",
    "        \"id\": \"100010\",\n",
    "        \"student\": \"Chien-Shiung Wu\",\n",
    "        \"coffee_preference\": \"medium\",\n",
    "        \"course\": \"web development\",\n",
    "        \"grades\": [82, 92, 91, 65],\n",
    "        \"pets\": [{\"species\": \"cat\", \"age\": 8}],\n",
    "    },\n",
    "    {\n",
    "        \"id\": \"100011\",\n",
    "        \"student\": \"William Sanford Nye\",\n",
    "        \"coffee_preference\": \"dark\",\n",
    "        \"course\": \"data science\",\n",
    "        \"grades\": [70, 92, 65, 99],\n",
    "        \"pets\": [{\"species\": \"cat\", \"age\": 8}, {\"species\": \"cat\", \"age\": 5}],\n",
    "    },\n",
    "    {\n",
    "        \"id\": \"100012\",\n",
    "        \"student\": \"Carl Sagan\",\n",
    "        \"coffee_preference\": \"medium\",\n",
    "        \"course\": \"data science\",\n",
    "        \"grades\": [100, 86, 91, 87],\n",
    "        \"pets\": [{\"species\": \"cat\", \"age\": 10}],\n",
    "    },\n",
    "    {\n",
    "        \"id\": \"100013\",\n",
    "        \"student\": \"Jane Goodall\",\n",
    "        \"coffee_preference\": \"light\",\n",
    "        \"course\": \"web development\",\n",
    "        \"grades\": [80, 70, 68, 98],\n",
    "        \"pets\": [{\"species\": \"horse\", \"age\": 4}],\n",
    "    },\n",
    "    {\n",
    "        \"id\": \"100014\",\n",
    "        \"student\": \"Richard Feynman\",\n",
    "        \"coffee_preference\": \"medium\",\n",
    "        \"course\": \"web development\",\n",
    "        \"grades\": [73, 99, 86, 98],\n",
    "        \"pets\": [{\"species\": \"dog\", \"age\": 6}],\n",
    "    },\n",
    "]"
   ]
  },
  {
   "cell_type": "markdown",
   "metadata": {},
   "source": [
    "> The following questions reference the `students` data structure above. Write the python code to answer the following questions:"
   ]
  },
  {
   "cell_type": "markdown",
   "metadata": {},
   "source": [
    "### 1.\n",
    "> How many students are there?"
   ]
  },
  {
   "cell_type": "code",
   "execution_count": 3,
   "metadata": {
    "ExecuteTime": {
     "end_time": "2020-08-09T22:38:07.048129Z",
     "start_time": "2020-08-09T22:38:07.045242Z"
    },
    "tags": []
   },
   "outputs": [
    {
     "output_type": "stream",
     "name": "stdout",
     "text": "There are 14 students.\n"
    }
   ],
   "source": [
    "# Looking at the data, we're dealing with a list of dictonaries.\n",
    "# Each dictonary represents a student with data about that student.\n",
    "\n",
    "# We can use use the `len()` function to measure the length of this list of dictionaries.\n",
    "# When we use the `len()` function on a string/list/dictionary to return the total number of characters/elements/data records it contains. It returns a number of type int.\n",
    "number_of_students = len(students)\n",
    "\n",
    "# Using f-string formatting we can pass the variable directly into the string using curly braces.\n",
    "print(f\"There are {number_of_students} students.\")"
   ]
  },
  {
   "cell_type": "markdown",
   "metadata": {},
   "source": [
    "### 2. \n",
    "> How many students prefer light coffee? For each type of coffee roast?"
   ]
  },
  {
   "cell_type": "code",
   "execution_count": 15,
   "metadata": {
    "ExecuteTime": {
     "end_time": "2020-08-09T22:38:08.254323Z",
     "start_time": "2020-08-09T22:38:08.248911Z"
    },
    "tags": []
   },
   "outputs": [
    {
     "output_type": "stream",
     "name": "stdout",
     "text": "Coffee preferences of students\n------------------------------\n3 students prefer light coffee\n6 students prefer medium coffee\n5 students prefer dark coffee\n"
    }
   ],
   "source": [
    "\n",
    "# I created a function to store coffee preferences with the number of students who prefer that roast.\n",
    "\n",
    "# I assigned the `students` data as a default argument.\n",
    "def coffee_preferences(data=students):\n",
    "\n",
    "    coffee_counts = {\n",
    "        'light' : len([s[\"coffee_preference\"] for s in data if(\n",
    "            s['coffee_preference'] == \"light\")]),\n",
    "        'medium' : len([s[\"coffee_preference\"] for s in data if(\n",
    "            s['coffee_preference'] == \"medium\")]),\n",
    "        'dark' : len([s[\"coffee_preference\"] for s in data if(\n",
    "            s['coffee_preference'] == \"dark\")])\n",
    "            }\n",
    "            \n",
    "    return coffee_counts\n",
    "\n",
    "coffee_data = coffee_preferences()\n",
    "\n",
    "# Display data to the user in a readable format\n",
    "print(\"Coffee preferences of students\")\n",
    "print(\"-\" * 30)\n",
    "for coffee, count in coffee_data.items():\n",
    "    print(f\"{count} students prefer {coffee} coffee\")"
   ]
  },
  {
   "cell_type": "markdown",
   "metadata": {},
   "source": [
    "### 3.\n",
    "> How many types of each pet are there?"
   ]
  },
  {
   "cell_type": "code",
   "execution_count": 16,
   "metadata": {
    "ExecuteTime": {
     "end_time": "2020-08-09T22:38:08.672910Z",
     "start_time": "2020-08-09T22:38:08.668251Z"
    },
    "tags": []
   },
   "outputs": [
    {
     "output_type": "stream",
     "name": "stdout",
     "text": "The types of pets students have\n------------------------------\n4 horses\n11 cats\n3 dogs\n"
    }
   ],
   "source": [
    "pet_types = {}\n",
    "\n",
    "for student in students:\n",
    "    for animal in student['pets']:\n",
    "        if animal['species'] not in pet_types:\n",
    "            pet_types[animal['species']] = 1\n",
    "        else:\n",
    "            pet_types[animal['species']] += 1\n",
    "\n",
    "print(\"The types of pets students have\")\n",
    "print(\"-\" * 30)\n",
    "for animal, count in pet_types.items():\n",
    "    print(f\"{count} {animal}s\")"
   ]
  },
  {
   "cell_type": "markdown",
   "metadata": {},
   "source": [
    "### 4.\n",
    "> How many grades does each student have? Do they all have the same number of grades?"
   ]
  },
  {
   "cell_type": "code",
   "execution_count": 18,
   "metadata": {
    "ExecuteTime": {
     "end_time": "2020-08-09T22:38:09.017809Z",
     "start_time": "2020-08-09T22:38:09.014158Z"
    },
    "tags": []
   },
   "outputs": [
    {
     "output_type": "stream",
     "name": "stdout",
     "text": "Ada Lovelace        : 4 grades\nThomas Bayes        : 4 grades\nMarie Curie         : 4 grades\nGrace Hopper        : 4 grades\nAlan Turing         : 4 grades\nRosalind Franklin   : 4 grades\nElizabeth Blackwell : 4 grades\nRene Descartes      : 4 grades\nAhmed Zewail        : 4 grades\nChien-Shiung Wu     : 4 grades\nWilliam Sanford Nye : 4 grades\nCarl Sagan          : 4 grades\nJane Goodall        : 4 grades\nRichard Feynman     : 4 grades\n"
    }
   ],
   "source": [
    "for student in students:\n",
    "    for key in student:\n",
    "        if key == 'grades':\n",
    "            print(('{:20}: {} grades').format(student['student'], len(student['grades'])))"
   ]
  },
  {
   "cell_type": "markdown",
   "metadata": {},
   "source": [
    "### 5.\n",
    "> What is each student's grade average?"
   ]
  },
  {
   "cell_type": "code",
   "execution_count": 19,
   "metadata": {
    "ExecuteTime": {
     "end_time": "2020-08-09T22:38:09.353131Z",
     "start_time": "2020-08-09T22:38:09.348452Z"
    },
    "tags": []
   },
   "outputs": [
    {
     "output_type": "stream",
     "name": "stdout",
     "text": "Ada Lovelace         grade average: 78.5\nThomas Bayes         grade average: 83.5\nMarie Curie          grade average: 73.25\nGrace Hopper         grade average: 78.5\nAlan Turing          grade average: 81.5\nRosalind Franklin    grade average: 80.75\nElizabeth Blackwell  grade average: 84.5\nRene Descartes       grade average: 88.75\nAhmed Zewail         grade average: 88.75\nChien-Shiung Wu      grade average: 82.5\nWilliam Sanford Nye  grade average: 81.5\nCarl Sagan           grade average: 91.0\nJane Goodall         grade average: 79.0\nRichard Feynman      grade average: 89.0\n"
    }
   ],
   "source": [
    "def grade_average(list_of_numbers):\n",
    "    return sum(list_of_numbers)/len(list_of_numbers)\n",
    "\n",
    "for student in students:\n",
    "    for key in student:\n",
    "        if key == 'grades':\n",
    "            print(('{:20} grade average: {}').format(student['student'], \n",
    "                                                      grade_average(student['grades'])))"
   ]
  },
  {
   "cell_type": "markdown",
   "metadata": {},
   "source": [
    "### 6.\n",
    "> How many pets does each student have?"
   ]
  },
  {
   "cell_type": "code",
   "execution_count": 21,
   "metadata": {
    "ExecuteTime": {
     "end_time": "2020-08-09T22:38:09.701557Z",
     "start_time": "2020-08-09T22:38:09.696919Z"
    },
    "tags": []
   },
   "outputs": [
    {
     "output_type": "stream",
     "name": "stdout",
     "text": "Ada Lovelace         has 1 pet\nThomas Bayes         has 0 pets\nMarie Curie          has 1 pet\nGrace Hopper         has 2 pets\nAlan Turing          has 3 pets\nRosalind Franklin    has 0 pets\nElizabeth Blackwell  has 1 pet\nRene Descartes       has 2 pets\nAhmed Zewail         has 2 pets\nChien-Shiung Wu      has 1 pet\nWilliam Sanford Nye  has 2 pets\nCarl Sagan           has 1 pet\nJane Goodall         has 1 pet\nRichard Feynman      has 1 pet\n"
    }
   ],
   "source": [
    "for student in students:\n",
    "    for key in student:\n",
    "        if key == 'pets':\n",
    "            if len(student['pets']) < 2 and len(student['pets']) > 0:\n",
    "                print((\"{:20} has {} pet\").format(student['student'] ,\n",
    "                                                   len(student['pets'])))\n",
    "            else:\n",
    "                print((\"{:20} has {} pets\").format(student['student'] ,\n",
    "                                                    len(student['pets'])))"
   ]
  },
  {
   "cell_type": "markdown",
   "metadata": {},
   "source": [
    "## 7.\n",
    "> How many students are in web development? data science?"
   ]
  },
  {
   "cell_type": "code",
   "execution_count": 22,
   "metadata": {
    "ExecuteTime": {
     "end_time": "2020-08-09T22:38:10.056890Z",
     "start_time": "2020-08-09T22:38:10.053107Z"
    },
    "tags": []
   },
   "outputs": [
    {
     "output_type": "stream",
     "name": "stdout",
     "text": "7 web development students\n7 data science students\n"
    }
   ],
   "source": [
    "courses = [s['course'] for s in students]\n",
    "\n",
    "web_development_count = courses.count('web development')\n",
    "data_science_count = courses.count('data science')\n",
    "\n",
    "\n",
    "print(f\"{web_development_count} web development students\")\n",
    "print(f\"{data_science_count} data science students\")"
   ]
  },
  {
   "cell_type": "markdown",
   "metadata": {},
   "source": [
    "### 8\n",
    "> What is the average number of pets for students in web development?"
   ]
  },
  {
   "cell_type": "code",
   "execution_count": 127,
   "metadata": {
    "ExecuteTime": {
     "end_time": "2020-08-09T22:38:10.395213Z",
     "start_time": "2020-08-09T22:38:10.391927Z"
    }
   },
   "outputs": [
    {
     "name": "stdout",
     "output_type": "stream",
     "text": [
      "Average number of pets for web development students: 1.0\n"
     ]
    }
   ],
   "source": [
    "web_development_pets = len(\n",
    "    [s['pets'] for s in students if s['course'] == 'web development'])\n",
    "\n",
    "avg_num_of_pets_web_dev = web_development_pets / enrolled_in_web_development\n",
    "\n",
    "print(f\"Average number of pets for web development students: {avg_num_of_pets_web_dev}\")"
   ]
  },
  {
   "cell_type": "markdown",
   "metadata": {},
   "source": [
    "### 9.\n",
    "> What is the average pet age for students in data science?"
   ]
  },
  {
   "cell_type": "code",
   "execution_count": 24,
   "metadata": {
    "ExecuteTime": {
     "end_time": "2020-08-09T22:38:11.104637Z",
     "start_time": "2020-08-09T22:38:11.100152Z"
    },
    "tags": []
   },
   "outputs": [
    {
     "output_type": "stream",
     "name": "stdout",
     "text": "Average pet age for data science students: 5.44 years\n"
    }
   ],
   "source": [
    "ds_pet_ages = []\n",
    "\n",
    "for student in students:\n",
    "    if student['course'] == 'data science':\n",
    "        for age in student['pets']:\n",
    "            ds_pet_ages.append(age['age'])\n",
    "        \n",
    "average_ds_pet_age = round(sum(ds_pet_ages)/len(ds_pet_ages), 2)\n",
    "\n",
    "print(f\"Average pet age for data science students: {average_ds_pet_age} years\")"
   ]
  },
  {
   "cell_type": "markdown",
   "metadata": {},
   "source": [
    "### 10.\n",
    "> What is most frequent coffee preference for data science students?"
   ]
  },
  {
   "cell_type": "code",
   "execution_count": 70,
   "metadata": {
    "ExecuteTime": {
     "end_time": "2020-08-09T22:38:11.904375Z",
     "start_time": "2020-08-09T22:38:11.899960Z"
    }
   },
   "outputs": [],
   "source": [
    "# Here I practice importing a module - collections module\n",
    "from collections import Counter\n",
    "\n",
    "# Counter?"
   ]
  },
  {
   "cell_type": "code",
   "execution_count": 72,
   "metadata": {
    "ExecuteTime": {
     "end_time": "2020-08-09T22:38:12.239336Z",
     "start_time": "2020-08-09T22:38:12.235560Z"
    },
    "tags": []
   },
   "outputs": [
    {
     "output_type": "stream",
     "name": "stdout",
     "text": "4/7 Data Science students drink medium coffee.\n"
    }
   ],
   "source": [
    "# I can use the Counter function to return the elements from a list\n",
    "# as a dictionary:\n",
    "# key = `coffee_preference` - the element in the list\n",
    "# value = roast type - number of times element appears in a list\n",
    "# I encapsulate the Counter function in the dict() function to cast Counter -> dict\n",
    "ds_coffee= dict(\n",
    "    Counter([s['coffee_preference'] for s in students if(s['course'] == 'data science')])\n",
    "    )\n",
    "\n",
    "ds_coffee_count = sum(ds_coffee.values())\n",
    "ds_coffee_max_roast = max(ds_coffee, key=ds_coffee.get)\n",
    "ds_coffee_max_count = max(ds_coffee.values())\n",
    "# Once I filter the data for coffee preferences held by data science students\n",
    "# with a for each coffee preference I can print the results\n",
    "\n",
    "print((f\"{ds_coffee_max_count}/{ds_coffee_count} Data Science students drink {ds_coffee_max_roast} coffee.\"))"
   ]
  },
  {
   "cell_type": "markdown",
   "metadata": {},
   "source": [
    "### 11.\n",
    "> What is the least frequent coffee preference for web development students?"
   ]
  },
  {
   "cell_type": "code",
   "execution_count": 106,
   "metadata": {
    "ExecuteTime": {
     "end_time": "2020-08-09T22:35:05.706963Z",
     "start_time": "2020-08-09T22:35:05.702746Z"
    }
   },
   "outputs": [
    {
     "name": "stdout",
     "output_type": "stream",
     "text": [
      "The least frequent coffee preference for web development students:\n",
      "2 medium\n",
      "2 dark\n"
     ]
    }
   ],
   "source": [
    "# Using the Counter function to create another frequency dict\n",
    "wd_coffee_pref_freq = dict(Counter([s['coffee_preference'] for s in students if(\n",
    "s['course'] == 'web development')]))\n",
    "\n",
    "# Once I filter the data for coffee preferences held by web dev. students\n",
    "# with a count for each coffee preference I can print the results\n",
    "# print(wd_coffee_pref_freq)\n",
    "\n",
    "print((\"The least frequent coffee preference for web development students:\\n\"\n",
    "       \"{} medium\\n\"\n",
    "       \"{} dark\").format(\n",
    "    wd_coffee_pref_freq['medium'], wd_coffee_pref_freq['dark'])\n",
    "     )"
   ]
  },
  {
   "cell_type": "markdown",
   "metadata": {},
   "source": [
    "### 12.\n",
    "> What is the average grade for students with at least 2 pets?"
   ]
  },
  {
   "cell_type": "code",
   "execution_count": 136,
   "metadata": {
    "ExecuteTime": {
     "end_time": "2020-08-09T22:42:54.842213Z",
     "start_time": "2020-08-09T22:42:54.838363Z"
    }
   },
   "outputs": [
    {
     "name": "stdout",
     "output_type": "stream",
     "text": [
      "Average grade for students with two pets: 82.93\n"
     ]
    }
   ],
   "source": [
    "students_with_at_least_two_pets = [sum(s['grades']) for s in students if(\n",
    "len(student['pets']) <= 2)]\n",
    "\n",
    "avg_grade_of_students_with_2_pets = round(\n",
    "    sum(students_with_at_least_two_pets)\n",
    "    / (len(students_with_at_least_two_pets) \n",
    "    * 4)\n",
    "    ,2)\n",
    "\n",
    "print((\"Average grade for students with two pets: {}\").format(\n",
    "    avg_grade_of_students_with_2_pets))"
   ]
  },
  {
   "cell_type": "markdown",
   "metadata": {},
   "source": [
    "### 13.\n",
    ">How many students have 3 pets?"
   ]
  },
  {
   "cell_type": "code",
   "execution_count": 103,
   "metadata": {
    "ExecuteTime": {
     "end_time": "2020-08-09T22:34:28.500477Z",
     "start_time": "2020-08-09T22:34:28.497243Z"
    }
   },
   "outputs": [
    {
     "name": "stdout",
     "output_type": "stream",
     "text": [
      "Number of students with 3 pets: 1\n"
     ]
    }
   ],
   "source": [
    "num_students_with_3_pets = len([s for s in students if(\n",
    "len(s['pets']) == 3)])\n",
    "print(\"Number of students with 3 pets: {}\".format(students_with_3_pets))"
   ]
  },
  {
   "cell_type": "markdown",
   "metadata": {},
   "source": [
    "### 14.\n",
    "> What is the average grade for students with 0 pets?"
   ]
  },
  {
   "cell_type": "code",
   "execution_count": 110,
   "metadata": {
    "ExecuteTime": {
     "end_time": "2020-08-09T22:36:15.517524Z",
     "start_time": "2020-08-09T22:36:15.514126Z"
    }
   },
   "outputs": [
    {
     "name": "stdout",
     "output_type": "stream",
     "text": [
      "Average grade for students with 0 pets: 82.12\n"
     ]
    }
   ],
   "source": [
    "avg_grade_0_pets = sum([sum(s['grades']) for s in students if(\n",
    "len(s['pets']) == 0)]) / 8\n",
    "\n",
    "print(\"Average grade for students with 0 pets: {}\".format(\n",
    "    round(avg_grade_0_pets, 2)))"
   ]
  },
  {
   "cell_type": "markdown",
   "metadata": {},
   "source": [
    "### 15.\n",
    "> What is the average grade for web development students? data science students?"
   ]
  },
  {
   "cell_type": "code",
   "execution_count": 66,
   "metadata": {
    "ExecuteTime": {
     "end_time": "2020-08-09T22:19:48.121203Z",
     "start_time": "2020-08-09T22:19:48.115562Z"
    }
   },
   "outputs": [
    {
     "name": "stdout",
     "output_type": "stream",
     "text": [
      "Average grade for Web Development students: 81.18\n",
      "Average grade for Data Science students: 84.68\n"
     ]
    }
   ],
   "source": [
    "wd_student_grades = [sum(s['grades']) for s in students if(\n",
    "s['course'] == 'web development')]\n",
    "\n",
    "wd_grade_average = (sum(wd_student_grades)\n",
    "                    / (enrolled_in_web_development\n",
    "                    * 4)\n",
    "                   )\n",
    "\n",
    "ds_student_grades = [sum(s['grades']) for s in students if(\n",
    "s['course'] == 'data science')]\n",
    "\n",
    "ds_grade_average = (sum(ds_student_grades)\n",
    "                    / (enrolled_in_data_science\n",
    "                    * 4)\n",
    "                   )\n",
    "print(\"Average grade for Web Development students: {}\".format(\n",
    "round(wd_grade_average, 2)))\n",
    "print(\"Average grade for Data Science students: {}\".format(\n",
    "round(ds_grade_average, 2)))\n"
   ]
  },
  {
   "cell_type": "markdown",
   "metadata": {},
   "source": [
    "### 16.\n",
    "> What is the average grade range (i.e. highest grade - lowest grade) for dark coffee drinkers?"
   ]
  },
  {
   "cell_type": "code",
   "execution_count": 79,
   "metadata": {
    "ExecuteTime": {
     "end_time": "2020-08-09T22:28:27.475101Z",
     "start_time": "2020-08-09T22:28:27.470116Z"
    }
   },
   "outputs": [
    {
     "name": "stdout",
     "output_type": "stream",
     "text": [
      "Dark coffee drinkers: Max average grade 84.5, Min average grade 78.5\n",
      "Average grade range for dark coffee drinkers: 6.0\n"
     ]
    }
   ],
   "source": [
    "grades_dark_coffee = [s['grades'] for s in students if(\n",
    "s['coffee_preference'] == 'dark')]\n",
    "\n",
    "grade_avg_dark_coffee = [sum(s['grades'])/len(s['grades']) for s in students if(\n",
    "s['coffee_preference'] == 'dark')]\n",
    "\n",
    "min_grade_avg_dark = min(grade_avg_dark_coffee)\n",
    "max_grade_avg_dark = max(grade_avg_dark_coffee)\n",
    "grade_avg_range_dark = max_grade_avg_dark - min_grade_avg_dark\n",
    "print(\"Dark coffee drinkers: Max average grade {}, Min average grade {}\".format(\n",
    "max_grade_avg_dark, min_grade_avg_dark))\n",
    "print(\"Average grade range for dark coffee drinkers: {}\".format(\n",
    "grade_avg_range_dark))"
   ]
  },
  {
   "cell_type": "markdown",
   "metadata": {},
   "source": [
    "### 17.\n",
    "> What is the average number of pets for medium coffee drinkers?"
   ]
  },
  {
   "cell_type": "code",
   "execution_count": 85,
   "metadata": {
    "ExecuteTime": {
     "end_time": "2020-08-09T22:32:29.540779Z",
     "start_time": "2020-08-09T22:32:29.536840Z"
    }
   },
   "outputs": [
    {
     "name": "stdout",
     "output_type": "stream",
     "text": [
      "Average number of pets for medium coffee drinkers: 1\n"
     ]
    }
   ],
   "source": [
    "num_of_pets_med_coffee = [len(s['pets']) for s in students]\n",
    "avg_num_of_pets_med_coffee = (sum(num_of_pets_med_coffee)\n",
    "                             // len(num_of_pets_med_coffee))\n",
    "\n",
    "print(\"Average number of pets for medium coffee drinkers: {}\".format(\n",
    "    avg_num_of_pets_med_coffee))"
   ]
  },
  {
   "cell_type": "markdown",
   "metadata": {},
   "source": [
    "### 18.\n",
    "> What is the most common type of pet for web development students?"
   ]
  },
  {
   "cell_type": "code",
   "execution_count": 159,
   "metadata": {
    "ExecuteTime": {
     "end_time": "2020-08-09T22:56:06.118801Z",
     "start_time": "2020-08-09T22:56:06.113589Z"
    }
   },
   "outputs": [
    {
     "name": "stdout",
     "output_type": "stream",
     "text": [
      "Most common type of pet for Web Development students:\n",
      "horse 4\n"
     ]
    }
   ],
   "source": [
    "wd_pets = {}\n",
    "\n",
    "for student in students:\n",
    "    if student['course'] == 'web development':\n",
    "        for animal in student['pets']:\n",
    "            if animal['species'] not in wd_pets:\n",
    "                wd_pets[animal['species']] = 1\n",
    "            else:\n",
    "                wd_pets[animal['species']] += 1\n",
    "\n",
    "# for animal, count in wd_pets.items():\n",
    "#     print(animal, count)\n",
    "\n",
    "print(\"Most common type of pet for Web\"\n",
    "      \" Development students:\\n{} {}\".format(\n",
    "          'horse',\n",
    "          wd_pets['horse']))"
   ]
  },
  {
   "cell_type": "markdown",
   "metadata": {},
   "source": [
    "### 19.\n",
    "> What is the average name length?"
   ]
  },
  {
   "cell_type": "code",
   "execution_count": 168,
   "metadata": {
    "ExecuteTime": {
     "end_time": "2020-08-09T22:59:27.983862Z",
     "start_time": "2020-08-09T22:59:27.980256Z"
    }
   },
   "outputs": [
    {
     "name": "stdout",
     "output_type": "stream",
     "text": [
      "Average name length: 13 letters\n"
     ]
    }
   ],
   "source": [
    "length_of_names = [len(s['student']) for s in students]\n",
    "avg_name_length = sum(length_of_names) // len(length_of_names)\n",
    "\n",
    "print(f\"Average name length: {avg_name_length} letters\")"
   ]
  },
  {
   "cell_type": "markdown",
   "metadata": {},
   "source": [
    "### 20.\n",
    "> What is the highest pet age for light coffee drinkers?"
   ]
  },
  {
   "cell_type": "code",
   "execution_count": 177,
   "metadata": {
    "ExecuteTime": {
     "end_time": "2020-08-09T23:04:13.010521Z",
     "start_time": "2020-08-09T23:04:13.006714Z"
    }
   },
   "outputs": [
    {
     "name": "stdout",
     "output_type": "stream",
     "text": [
      "The highest pet age for light coffee drinkers: 8yrs old\n"
     ]
    }
   ],
   "source": [
    "pets_light_coffee = []\n",
    "\n",
    "for student in students:\n",
    "    if student['coffee_preference'] == 'light':\n",
    "        for animal in student['pets']:\n",
    "           pets_light_coffee.append(animal['age'])\n",
    "oldest_pet_light_coffee = max(pets_light_coffee)\n",
    "print(f\"The highest pet age for light coffee drinkers: {oldest_pet_light_coffee}yrs old\")"
   ]
  }
 ],
 "metadata": {
  "kernelspec": {
   "display_name": "Python 3",
   "language": "python",
   "name": "python3"
  },
  "language_info": {
   "codemirror_mode": {
    "name": "ipython",
    "version": 3
   },
   "file_extension": ".py",
   "mimetype": "text/x-python",
   "name": "python",
   "nbconvert_exporter": "python",
   "pygments_lexer": "ipython3",
   "version": "3.8.1-final"
  }
 },
 "nbformat": 4,
 "nbformat_minor": 4
}