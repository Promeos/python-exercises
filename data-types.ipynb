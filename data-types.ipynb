{
 "cells": [
  {
   "cell_type": "markdown",
   "metadata": {},
   "source": [
    "# Tesseractbuster Movie Rentals"
   ]
  },
  {
   "cell_type": "code",
   "execution_count": 85,
   "metadata": {},
   "outputs": [],
   "source": [
    "# You have rented some movies for your kids: \n",
    "# The little mermaid (for 3 days), Brother Bear (for 5 days, \n",
    "# they love it), and Hercules (1 day, you don't know yet if they're \n",
    "# going to like it). If price for a movie per day is 3 dollars, \n",
    "# how much will you have to pay?\n",
    "\n",
    "# create a dictionary of movies and number of days rented.\n",
    "my_rented_movies = {'The Little Mermaid': 3,\n",
    "                    'Brother Bear': 5,\n",
    "                    'Hercules': 1}\n",
    "\n",
    "# create a function to calculate the total rental fee.\n",
    "def rental_fee(rented_movies):\n",
    "    # create a variable for the rental fee to generalize the formula\n",
    "    daily_rental_fee = 3\n",
    "    \n",
    "    # use a list comprehension to pull the number of days from each movie\n",
    "    total_fee = sum([i * daily_rental_fee for i in rented_movies.values()])\n",
    "    \n",
    "    # create a message variable to generalize the message\n",
    "    message = f'Your kiddos ran up a bill of ${total_fee}. More movies!'\n",
    "    print(message)\n",
    "    # return total_fee"
   ]
  },
  {
   "cell_type": "code",
   "execution_count": 86,
   "metadata": {},
   "outputs": [
    {
     "name": "stdout",
     "output_type": "stream",
     "text": [
      "Your kiddos ran up a bill of $27. More movies!\n"
     ]
    }
   ],
   "source": [
    "rental_fee(my_rented_movies)"
   ]
  },
  {
   "cell_type": "markdown",
   "metadata": {},
   "source": [
    "# Data Science Contract Work"
   ]
  },
  {
   "cell_type": "code",
   "execution_count": 79,
   "metadata": {},
   "outputs": [
    {
     "name": "stdout",
     "output_type": "stream",
     "text": [
      "Welcome to the Data Science Contractor Pay Calculator.\n",
      "\n",
      "Let's see how much you earned this week.\n",
      "Enter number of contract hours worked for Facebook: 10\n",
      "Enter number of contract hours worked for Google: 6\n",
      "Enter number of contract hours worked for Amazon: 5\n",
      "\n",
      "You earned $7800.0 this week. Wowie!\n"
     ]
    }
   ],
   "source": [
    "# Suppose you're working as a contractor for 3 companies:\n",
    "# Google, Amazon and Facebook, they pay you a different rate per hour.\n",
    "# Google pays 400 dollars per hour, Amazon 380, and Facebook 350.\n",
    "# How much will you receive in payment for this week? You worked 10 hours for Facebook, \n",
    "# 6 hours for Google and 4 hours for Amazon.\n",
    "\n",
    "# Wowie that is amazing. To the problem at hand!\n",
    "\n",
    "def data_scientist_contractor_pay():\n",
    "    print(\"Welcome to the Data Science Contractor Pay Calculator.\"\n",
    "          + \"\\n\\nLet's see how much you earned this week.\")\n",
    "    \n",
    "    google_hourly_rate = 400\n",
    "    amazon_hourly_rate = 380\n",
    "    facebook_hourly_rate = 350\n",
    "    \n",
    "    # generalize input functions to get hours worked from the user\n",
    "    facebook_hours = float(input(\"Enter number of contract hours worked for Facebook: \"))\n",
    "    google_hours = float(input(\"Enter number of contract hours worked for Google: \"))\n",
    "    amazon_hours = float(input(\"Enter number of contract hours worked for Amazon: \"))\n",
    "\n",
    "    # create variables to calculate invoices to the FANGS\n",
    "    invoice_to_google = google_hours \\\n",
    "                        * google_hourly_rate\n",
    "        \n",
    "    invoice_to_amazon = amazon_hours \\\n",
    "                        * amazon_hourly_rate\n",
    "        \n",
    "    invoice_to_facebook = facebook_hours \\\n",
    "                        * facebook_hourly_rate\n",
    "    \n",
    "    amount_earned_this_week = round(sum([invoice_to_google \\\n",
    "                                         + invoice_to_amazon \\\n",
    "                                         + invoice_to_facebook\n",
    "                                        ]), 2)\n",
    "    \n",
    "    # create a variable to generalize the message\n",
    "    message = f\"\\nYou earned ${amount_earned_this_week} this week. Wowie!\"\n",
    "    \n",
    "    print(message)\n",
    "    #return amount_earned_this_week\n",
    "\n",
    "# call the function\n",
    "data_scientist_contractor_pay()"
   ]
  },
  {
   "cell_type": "markdown",
   "metadata": {},
   "source": [
    "# Enrollment Eligibility"
   ]
  },
  {
   "cell_type": "code",
   "execution_count": 83,
   "metadata": {},
   "outputs": [
    {
     "name": "stdout",
     "output_type": "stream",
     "text": [
      "Hello potential Dardenite! What is your name?: A\n",
      "It's nice to meet you A! Let's see if you're eligible to enroll in our Bootcamp...\n",
      "\n",
      "Well, A. Call yourself Charlie because you've got the last Golden Ticket to Darden!\n",
      "Here are 3 assessments I'll need you to complete...\n"
     ]
    }
   ],
   "source": [
    "# A student can be enrolled to a class only if the class is not full and the class \n",
    "# schedule does not conflict with her current schedule.\n",
    "# This would be awesome to build out fully\n",
    "\n",
    "\n",
    "# create a function to determine class eligibility\n",
    "def enrollment_eligibility(person_schedule, class_limit):\n",
    "    \n",
    "    # create message variables for generalization\n",
    "    name = input('Hello potential Dardenite! What is your name?: ').capitalize()\n",
    "    \n",
    "    message = (\"It's nice to meet you {}! Let's see if you're\"\n",
    "               \" eligible to enroll in our Bootcamp...\\n\").format(name)\n",
    "        \n",
    "    # display message to determine eligibility\n",
    "    print(message)\n",
    "    \n",
    "    # create conditional variables to determine eligibility\n",
    "    is_class_full = class_limit > 31\n",
    "    schedule_is_open = person_schedule == True\n",
    "    is_easter_egg = class_limit == 30 and schedule_is_open\n",
    "    eligible_applicant = schedule_is_open and not is_class_full\n",
    "    \n",
    "    # create message variable to display as outcomes of the selection structure\n",
    "    class_limit = (\"I'm sorry {}. We don't have space in this Bootcamp.\"\n",
    "                    \"\\nWould you like to be the first \"\n",
    "                    \"applicant to the next cohort?\").format(name)\n",
    "    schedule_conflict = (\"If your schedule doesn't fit us in right now\"\n",
    "                         \" let's stay in touch, {}.\").format(name)\n",
    "    class_open_schedule_open = (\"You're eligible! Here are 3 assessments\"\n",
    "                                \" I'll need you to complete.\")\n",
    "    special_message = (\"Well, {}. Call yourself Charlie because you've \"\n",
    "                       \"got the last Golden Ticket to Darden!\"\n",
    "                       \"\\nHere are 3 assessments I'll need you\"\n",
    "                       \" to complete...\").format(name)\n",
    "    formal_message = (\"You're eligible! Here are 3 assessments I'll need you to complete.\")\n",
    "    \n",
    "    # selection structure to determine eligibility\n",
    "    if is_easter_egg:\n",
    "        print(special_message)\n",
    "    elif eligible_applicant:\n",
    "        print(formal_message)\n",
    "    elif not schedule_is_open:\n",
    "        print(schedule_conflict)\n",
    "    elif is_class_full:\n",
    "        print(class_limit)   \n",
    "    else:\n",
    "        return None\n",
    "\n",
    "#initialize variables\n",
    "student_availability = True\n",
    "current_cohort_applicants = 30\n",
    "\n",
    "# run the function\n",
    "enrollment_eligibility(student_availability, current_cohort_applicants)\n",
    "    \n",
    "    "
   ]
  },
  {
   "cell_type": "markdown",
   "metadata": {},
   "source": [
    "# Super Market Discount"
   ]
  },
  {
   "cell_type": "code",
   "execution_count": 87,
   "metadata": {},
   "outputs": [],
   "source": [
    "# A product offer can be applied only if people buys more than 2 items,\n",
    "# and the offer has not expired.\n",
    "# Premium members do not need to buy a specific amount of products.\n",
    "# I secretly loved Super Market Sweep as a kid.\n",
    "\n",
    "\n",
    "def is_premium_member():\n",
    "    # create a variable to generalize the message\n",
    "    question = \"Are you a Ralph\\'s Rewards member (y/n)?: \"\n",
    "    answer = input(question).lower()\n",
    "    \n",
    "    # create conditional variables to navigate the selection structure\n",
    "    member = answer == 'y'\n",
    "    potential_member = answer == 'n'\n",
    "    \n",
    "    # create variables to store responses\n",
    "    prospect_member_script = (\"\\nWHAT?! YOU'RE NOT A REWARDS MEMBER?!\\n\"\n",
    "                              \"Would you like to become a Ralph's Rewards member?\"\n",
    "                              \" It's the low, low price of: F. R. E. E...\\n\")\n",
    "\n",
    "    catch_all = \"\\nA flash mob breaks out dancing to Thriller.\\n\"\n",
    "    \n",
    "    # determine if the customer is a member or potential member\n",
    "    if member:\n",
    "        return True\n",
    "    elif potential_member:\n",
    "        print(prospect_member_script)\n",
    "        return False\n",
    "    else:\n",
    "        print(catch_all)\n",
    "        return None\n",
    "\n",
    "    \n",
    "def product_offer(product_name, number_of_products, is_valid_offer,):\n",
    "    #create a variable to generalize greeting script\n",
    "    discount_script = (\"Hello! How are you this fine day?\"\n",
    "                       \"\\n\\n**Cashier checks out items. Happy beeping noises**\"\n",
    "                       \"\\n\\nAh you've brought in a discount offer for {}.\\n\"\n",
    "                       \"Let's see if your eligible for the discount...\"\n",
    "                       \"\\n\").format(product_name) \n",
    "    \n",
    "    # print customary cashier greeting\n",
    "    print(discount_script)\n",
    "    \n",
    "    # creating conditional variables I learned this from Ryan O. during the walkthrough! \n",
    "    # Sweet. Readability!\n",
    "    premium_member = is_premium_member()\n",
    "    eligible_number_of_products = number_of_products > 2\n",
    "    good_coupon = is_valid_offer == True\n",
    "    \n",
    "    # store messages in variables for readability.\n",
    "    premium_member_or_offer_valid = (\"\\nYou're eligible for a discount on your \"\n",
    "                                     f\"{product_name}!\")\n",
    "        \n",
    "    more_product_offer_valid = (\"You're almost eligible for this discount!\"\n",
    "                                \" You need more than 2 of the same item.\"\n",
    "                                \"\\nI'll have a team member get it for you. Tony,\"\n",
    "                                \" I have a BLUE LIGHT SPECIAL!\")\n",
    "        \n",
    "    no_elibility = \"I'm sorry you're not eligible for the discount.\"\n",
    "    \n",
    "    # selection structre incorporating conditional variables. My eyes are happy.\n",
    "    if premium_member or (eligible_number_of_products and good_coupon):\n",
    "        print(premium_member_or_offer_valid)\n",
    "        \n",
    "    elif good_coupon and not eligible_number_of_products:\n",
    "        print(more_product_offer_valid)\n",
    "        \n",
    "    else:\n",
    "        print(no_elibility)\n",
    "        return None"
   ]
  },
  {
   "cell_type": "code",
   "execution_count": 88,
   "metadata": {
    "scrolled": true
   },
   "outputs": [
    {
     "name": "stdout",
     "output_type": "stream",
     "text": [
      "Hello! How are you this fine day?\n",
      "\n",
      "**Cashier checks out items. Happy beeping noises**\n",
      "\n",
      "Ah you've brought in a discount offer for Canned Yams.\n",
      "Let's see if your eligible for the discount...\n",
      "\n",
      "Are you a Ralph's Rewards member (y/n)?: y\n",
      "\n",
      "You're eligible for a discount on your Canned Yams!\n"
     ]
    }
   ],
   "source": [
    "product = \"Canned Yams\"\n",
    "quantity = 2\n",
    "offer = True\n",
    "\n",
    "product_offer(product, quantity, offer)"
   ]
  },
  {
   "cell_type": "markdown",
   "metadata": {},
   "source": [
    "# Password Exercise"
   ]
  },
  {
   "cell_type": "code",
   "execution_count": 5,
   "metadata": {},
   "outputs": [
    {
     "name": "stdout",
     "output_type": "stream",
     "text": [
      "True\n"
     ]
    }
   ],
   "source": [
    "# Create a variable that holds a boolean value for each of the following conditions:\n",
    "\n",
    "# the password must be at least 5 characters\n",
    "# the username must be no more than 20 characters\n",
    "# the password must not be the same as the username\n",
    "# bonus neither the username or password can start or end with whitespace\n",
    "\n",
    "\n",
    "# create a username and password\n",
    "username = 'codeup'\n",
    "password = 'notastrongpassword'\n",
    "\n",
    "# the password must be at least 5 characters\n",
    "# the username must be no more than 20 characters\n",
    "username_length = len(username) >= 5\n",
    "password_length = len(password) <= 20\n",
    "\n",
    "# bonus neither the username or password can start or end with whitespace\n",
    "username_whitespace = username == username.strip()\n",
    "password_whitespace = password == password.strip()\n",
    "\n",
    "# the password must not be the same as the username\n",
    "username_is_password = username == password\n",
    "\n",
    "# variables to combine conditional expressions together\n",
    "valid_username = username_length and username_whitespace and not username_is_password\n",
    "valid_password = password_length and password_whitespace and not username_is_password\n",
    "valid_credentials = valid_username and valid_password\n",
    "\n",
    "print(valid_credentials)"
   ]
  },
  {
   "cell_type": "markdown",
   "metadata": {},
   "source": [
    "# Everything below this are data type experiments"
   ]
  },
  {
   "cell_type": "code",
   "execution_count": 82,
   "metadata": {},
   "outputs": [
    {
     "data": {
      "text/plain": [
       "float"
      ]
     },
     "execution_count": 82,
     "metadata": {},
     "output_type": "execute_result"
    }
   ],
   "source": [
    "# this is a numeric literal of type float because of the decimal value\n",
    "type(99.9)"
   ]
  },
  {
   "cell_type": "code",
   "execution_count": 7,
   "metadata": {},
   "outputs": [
    {
     "data": {
      "text/plain": [
       "str"
      ]
     },
     "execution_count": 7,
     "metadata": {},
     "output_type": "execute_result"
    }
   ],
   "source": [
    "# this is a string literal because of the quotation marks. This will return\n",
    "# type str\n",
    "type(\"False\")"
   ]
  },
  {
   "cell_type": "code",
   "execution_count": 8,
   "metadata": {},
   "outputs": [
    {
     "data": {
      "text/plain": [
       "bool"
      ]
     },
     "execution_count": 8,
     "metadata": {},
     "output_type": "execute_result"
    }
   ],
   "source": [
    "# this is a boolean value that will return type bool\n",
    "type(False)"
   ]
  },
  {
   "cell_type": "code",
   "execution_count": 9,
   "metadata": {},
   "outputs": [
    {
     "data": {
      "text/plain": [
       "str"
      ]
     },
     "execution_count": 9,
     "metadata": {},
     "output_type": "execute_result"
    }
   ],
   "source": [
    "# this is a string literal that returns type str\n",
    "type('0')"
   ]
  },
  {
   "cell_type": "code",
   "execution_count": 10,
   "metadata": {},
   "outputs": [
    {
     "data": {
      "text/plain": [
       "int"
      ]
     },
     "execution_count": 10,
     "metadata": {},
     "output_type": "execute_result"
    }
   ],
   "source": [
    "# this is a numeric literal that return type int\n",
    "type(0)"
   ]
  },
  {
   "cell_type": "code",
   "execution_count": 11,
   "metadata": {},
   "outputs": [
    {
     "data": {
      "text/plain": [
       "bool"
      ]
     },
     "execution_count": 11,
     "metadata": {},
     "output_type": "execute_result"
    }
   ],
   "source": [
    "# this is a boolean value with a type bool\n",
    "type(True)"
   ]
  },
  {
   "cell_type": "code",
   "execution_count": 12,
   "metadata": {},
   "outputs": [
    {
     "data": {
      "text/plain": [
       "str"
      ]
     },
     "execution_count": 12,
     "metadata": {},
     "output_type": "execute_result"
    }
   ],
   "source": [
    "# this is a string literal of type str\n",
    "type('True')"
   ]
  },
  {
   "cell_type": "code",
   "execution_count": 15,
   "metadata": {},
   "outputs": [
    {
     "data": {
      "text/plain": [
       "list"
      ]
     },
     "execution_count": 15,
     "metadata": {},
     "output_type": "execute_result"
    }
   ],
   "source": [
    "# this is a list data type. Although a dict data type resides in the list\n",
    "# the list data type 'contains' the dict value.\n",
    "type([{'a': 'a'}])"
   ]
  },
  {
   "cell_type": "code",
   "execution_count": 16,
   "metadata": {},
   "outputs": [
    {
     "data": {
      "text/plain": [
       "dict"
      ]
     },
     "execution_count": 16,
     "metadata": {},
     "output_type": "execute_result"
    }
   ],
   "source": [
    "# this is a dict data type because the outer container is a dictionary\n",
    "type({'a': []})"
   ]
  },
  {
   "cell_type": "markdown",
   "metadata": {},
   "source": [
    "What data type would best represent:\n",
    "1. A term or phrase typed into a search box?\n",
    "> string data type \n",
    "\n",
    "2. If a user is logged in?\n",
    "> boolean data type\n",
    "\n",
    "3. A discount amount to apply to a user's shopping cart?\n",
    "> float data type\n",
    "\n",
    "4. Whether or not a coupon code is valid?\n",
    "> boolean data type\n",
    "\n",
    "5. An email address typed into a registration form?\n",
    "> string data type\n",
    "\n",
    "6. The price of a product?\n",
    "> float data type\n",
    "\n",
    "7. A Matrix?\n",
    "> list data type\n",
    "\n",
    "8. The email addresses collected from a registration form?\n",
    "> dict data type\n",
    "\n",
    "9. Information about applicants to Codeup's data science program?\n",
    "> dict data type"
   ]
  },
  {
   "cell_type": "code",
   "execution_count": 18,
   "metadata": {},
   "outputs": [
    {
     "ename": "TypeError",
     "evalue": "can only concatenate str (not \"int\") to str",
     "output_type": "error",
     "traceback": [
      "\u001b[0;31m---------------------------------------------------------------------------\u001b[0m",
      "\u001b[0;31mTypeError\u001b[0m                                 Traceback (most recent call last)",
      "\u001b[0;32m<ipython-input-18-20b2518fe802>\u001b[0m in \u001b[0;36m<module>\u001b[0;34m\u001b[0m\n\u001b[0;32m----> 1\u001b[0;31m \u001b[0;34m'1'\u001b[0m \u001b[0;34m+\u001b[0m \u001b[0;36m2\u001b[0m\u001b[0;34m\u001b[0m\u001b[0;34m\u001b[0m\u001b[0m\n\u001b[0m",
      "\u001b[0;31mTypeError\u001b[0m: can only concatenate str (not \"int\") to str"
     ]
    }
   ],
   "source": [
    "# This produces an error. Python cannot infer which data type to operate on.\n",
    "# The string should be cast as an int or the int cast as a string depending on what\n",
    "# the data presented or measured.\n",
    "'1' + 2"
   ]
  },
  {
   "cell_type": "code",
   "execution_count": 23,
   "metadata": {},
   "outputs": [
    {
     "data": {
      "text/plain": [
       "2"
      ]
     },
     "execution_count": 23,
     "metadata": {},
     "output_type": "execute_result"
    }
   ],
   "source": [
    "# This is the modulo operator! It performs division and returns the\n",
    "# remainder of the dividend divided by the divisor. It will return 2.\n",
    "6 % 4"
   ]
  },
  {
   "cell_type": "code",
   "execution_count": 24,
   "metadata": {},
   "outputs": [
    {
     "data": {
      "text/plain": [
       "int"
      ]
     },
     "execution_count": 24,
     "metadata": {},
     "output_type": "execute_result"
    }
   ],
   "source": [
    "# this returns a data type of type int\n",
    "type(6 % 4)"
   ]
  },
  {
   "cell_type": "code",
   "execution_count": 1,
   "metadata": {},
   "outputs": [
    {
     "ename": "TypeError",
     "evalue": "can only concatenate str (not \"int\") to str",
     "output_type": "error",
     "traceback": [
      "\u001b[0;31m---------------------------------------------------------------------------\u001b[0m",
      "\u001b[0;31mTypeError\u001b[0m                                 Traceback (most recent call last)",
      "\u001b[0;32m<ipython-input-1-db44a29bfcfa>\u001b[0m in \u001b[0;36m<module>\u001b[0;34m\u001b[0m\n\u001b[1;32m      1\u001b[0m \u001b[0;31m# This returns an type error because Python cannot infer the\u001b[0m\u001b[0;34m\u001b[0m\u001b[0;34m\u001b[0m\u001b[0;34m\u001b[0m\u001b[0m\n\u001b[1;32m      2\u001b[0m \u001b[0;31m# from the command\u001b[0m\u001b[0;34m\u001b[0m\u001b[0;34m\u001b[0m\u001b[0;34m\u001b[0m\u001b[0m\n\u001b[0;32m----> 3\u001b[0;31m \u001b[0;34m'3 + 4 is '\u001b[0m \u001b[0;34m+\u001b[0m \u001b[0;36m3\u001b[0m \u001b[0;34m+\u001b[0m \u001b[0;36m4\u001b[0m\u001b[0;34m\u001b[0m\u001b[0;34m\u001b[0m\u001b[0m\n\u001b[0m",
      "\u001b[0;31mTypeError\u001b[0m: can only concatenate str (not \"int\") to str"
     ]
    }
   ],
   "source": [
    "# This returns an type error because Python cannot infer the\n",
    "# from the command.\n",
    "'3 + 4 is ' + 3 + 4"
   ]
  },
  {
   "cell_type": "code",
   "execution_count": 3,
   "metadata": {},
   "outputs": [
    {
     "data": {
      "text/plain": [
       "False"
      ]
     },
     "execution_count": 3,
     "metadata": {},
     "output_type": "execute_result"
    }
   ],
   "source": [
    "# Evaluates to False because it is not greater than itself\n",
    "0 < 0"
   ]
  },
  {
   "cell_type": "code",
   "execution_count": 4,
   "metadata": {},
   "outputs": [
    {
     "data": {
      "text/plain": [
       "False"
      ]
     },
     "execution_count": 4,
     "metadata": {},
     "output_type": "execute_result"
    }
   ],
   "source": [
    "# Returns False because a string is not equal/ the exact value\n",
    "# of a bool.\n",
    "'False' == False"
   ]
  },
  {
   "cell_type": "code",
   "execution_count": 6,
   "metadata": {},
   "outputs": [
    {
     "data": {
      "text/plain": [
       "False"
      ]
     },
     "execution_count": 6,
     "metadata": {},
     "output_type": "execute_result"
    }
   ],
   "source": [
    "# Returns False because a string is not equal/ the exact value\n",
    "# of a bool.\n",
    "True == 'True'"
   ]
  },
  {
   "cell_type": "code",
   "execution_count": 7,
   "metadata": {},
   "outputs": [
    {
     "data": {
      "text/plain": [
       "True"
      ]
     },
     "execution_count": 7,
     "metadata": {},
     "output_type": "execute_result"
    }
   ],
   "source": [
    "# This evaluates to bool of True because 5 is greater than -5.\n",
    "5 >= -5"
   ]
  },
  {
   "cell_type": "code",
   "execution_count": 8,
   "metadata": {},
   "outputs": [],
   "source": [
    "# I have never encountered this before.\n",
    "!False or False"
   ]
  },
  {
   "cell_type": "code",
   "execution_count": 9,
   "metadata": {},
   "outputs": [
    {
     "data": {
      "text/plain": [
       "True"
      ]
     },
     "execution_count": 9,
     "metadata": {},
     "output_type": "execute_result"
    }
   ],
   "source": [
    "# This is interesting. I have never used a boolean value in a\n",
    "# conditional expression with a string!\n",
    "True or \"42\""
   ]
  },
  {
   "cell_type": "code",
   "execution_count": 15,
   "metadata": {},
   "outputs": [
    {
     "data": {
      "text/plain": [
       "42"
      ]
     },
     "execution_count": 15,
     "metadata": {},
     "output_type": "execute_result"
    }
   ],
   "source": [
    "# When using a logical operator between two numeric literal the\n",
    "# expression selects the lower of the two numeric literals!\n",
    "42 or 210"
   ]
  },
  {
   "cell_type": "code",
   "execution_count": 16,
   "metadata": {},
   "outputs": [
    {
     "data": {
      "text/plain": [
       "'This is a string'"
      ]
     },
     "execution_count": 16,
     "metadata": {},
     "output_type": "execute_result"
    }
   ],
   "source": [
    "# Let's use a logical operator between strings. Interesting! It return the\n",
    "# string with the smaller length.\n",
    "\"This is a string\" or \"This is a longer string\""
   ]
  },
  {
   "cell_type": "code",
   "execution_count": 20,
   "metadata": {},
   "outputs": [
    {
     "data": {
      "text/plain": [
       "'1'"
      ]
     },
     "execution_count": 20,
     "metadata": {},
     "output_type": "execute_result"
    }
   ],
   "source": [
    "# Let's use a logical operator between string literals and numeric\n",
    "# literals. Wow. Strings have precedent over numeric literals when using\n",
    "# logical operators. Cool!\n",
    "\"1\" or 50000000000"
   ]
  },
  {
   "cell_type": "code",
   "execution_count": 21,
   "metadata": {},
   "outputs": [
    {
     "name": "stdout",
     "output_type": "stream",
     "text": [
      "/bin/sh: !False: command not found\r\n"
     ]
    }
   ],
   "source": [
    "# \n",
    "!True && !False"
   ]
  },
  {
   "cell_type": "code",
   "execution_count": 22,
   "metadata": {},
   "outputs": [
    {
     "data": {
      "text/plain": [
       "1"
      ]
     },
     "execution_count": 22,
     "metadata": {},
     "output_type": "execute_result"
    }
   ],
   "source": [
    "# A modulo that will return the remainder of 6 / 5\n",
    "6 % 5"
   ]
  },
  {
   "cell_type": "code",
   "execution_count": 27,
   "metadata": {},
   "outputs": [
    {
     "data": {
      "text/plain": [
       "True"
      ]
     },
     "execution_count": 27,
     "metadata": {},
     "output_type": "execute_result"
    }
   ],
   "source": [
    "# This compound conditional expression evaluates to True\n",
    "4 >= 0 and 1 == 1"
   ]
  },
  {
   "cell_type": "code",
   "execution_count": 25,
   "metadata": {},
   "outputs": [
    {
     "data": {
      "text/plain": [
       "False"
      ]
     },
     "execution_count": 25,
     "metadata": {},
     "output_type": "execute_result"
    }
   ],
   "source": [
    "# This compound conditional expression evaluates to False\n",
    "'codeup' == 'codeup' and 'codeup' == 'Codeup'"
   ]
  },
  {
   "cell_type": "code",
   "execution_count": 28,
   "metadata": {},
   "outputs": [
    {
     "ename": "SyntaxError",
     "evalue": "invalid syntax (<ipython-input-28-7543a5094187>, line 3)",
     "output_type": "error",
     "traceback": [
      "\u001b[0;36m  File \u001b[0;32m\"<ipython-input-28-7543a5094187>\"\u001b[0;36m, line \u001b[0;32m3\u001b[0m\n\u001b[0;31m    4 >= 0 and 1 !== '1'\u001b[0m\n\u001b[0m                   ^\u001b[0m\n\u001b[0;31mSyntaxError\u001b[0m\u001b[0;31m:\u001b[0m invalid syntax\n"
     ]
    }
   ],
   "source": [
    "# This exppression will raise a syntax error. The correct symbol\n",
    "# for not equal is '!='\n",
    "4 >= 0 and 1 !== '1'"
   ]
  },
  {
   "cell_type": "code",
   "execution_count": 30,
   "metadata": {},
   "outputs": [
    {
     "data": {
      "text/plain": [
       "True"
      ]
     },
     "execution_count": 30,
     "metadata": {},
     "output_type": "execute_result"
    }
   ],
   "source": [
    "# This conditional expression evaluates to True because\n",
    "# 6 divided by 3 leaves no remainder.\n",
    "6 % 3 == 0"
   ]
  },
  {
   "cell_type": "code",
   "execution_count": 31,
   "metadata": {},
   "outputs": [
    {
     "data": {
      "text/plain": [
       "True"
      ]
     },
     "execution_count": 31,
     "metadata": {},
     "output_type": "execute_result"
    }
   ],
   "source": [
    "# This expression evaluates to True because 5 divided by 2 leaves\n",
    "# a remainder of 1 and that is not zero.\n",
    "5 % 2 != 0"
   ]
  },
  {
   "cell_type": "code",
   "execution_count": 35,
   "metadata": {},
   "outputs": [
    {
     "ename": "TypeError",
     "evalue": "can only concatenate list (not \"int\") to list",
     "output_type": "error",
     "traceback": [
      "\u001b[0;31m---------------------------------------------------------------------------\u001b[0m",
      "\u001b[0;31mTypeError\u001b[0m                                 Traceback (most recent call last)",
      "\u001b[0;32m<ipython-input-35-0a8a7e72e364>\u001b[0m in \u001b[0;36m<module>\u001b[0;34m\u001b[0m\n\u001b[1;32m      1\u001b[0m \u001b[0;31m# First time seeing this. This raises a Type Error because we cannot\u001b[0m\u001b[0;34m\u001b[0m\u001b[0;34m\u001b[0m\u001b[0;34m\u001b[0m\u001b[0m\n\u001b[1;32m      2\u001b[0m \u001b[0;31m# combine two different data types.\u001b[0m\u001b[0;34m\u001b[0m\u001b[0;34m\u001b[0m\u001b[0;34m\u001b[0m\u001b[0m\n\u001b[0;32m----> 3\u001b[0;31m \u001b[0;34m[\u001b[0m\u001b[0;36m1\u001b[0m\u001b[0;34m]\u001b[0m \u001b[0;34m+\u001b[0m \u001b[0;36m2\u001b[0m\u001b[0;34m\u001b[0m\u001b[0;34m\u001b[0m\u001b[0m\n\u001b[0m",
      "\u001b[0;31mTypeError\u001b[0m: can only concatenate list (not \"int\") to list"
     ]
    }
   ],
   "source": [
    "# First time seeing this. This raises a Type Error because we cannot\n",
    "# combine two different data types.\n",
    "[1] + 2"
   ]
  },
  {
   "cell_type": "code",
   "execution_count": 37,
   "metadata": {},
   "outputs": [
    {
     "data": {
      "text/plain": [
       "[1, 2]"
      ]
     },
     "execution_count": 37,
     "metadata": {},
     "output_type": "execute_result"
    }
   ],
   "source": [
    "# This evaluates to a list with two elements 1, 2.\n",
    "[1] + [2]"
   ]
  },
  {
   "cell_type": "code",
   "execution_count": 40,
   "metadata": {},
   "outputs": [
    {
     "data": {
      "text/plain": [
       "[1, 1]"
      ]
     },
     "execution_count": 40,
     "metadata": {},
     "output_type": "execute_result"
    }
   ],
   "source": [
    "# I did not know this! You can multiply a list by a scalar and\n",
    "# the list will add elements according to the scalar.\n",
    "[1] * 2"
   ]
  },
  {
   "cell_type": "code",
   "execution_count": 43,
   "metadata": {},
   "outputs": [
    {
     "ename": "TypeError",
     "evalue": "can't multiply sequence by non-int of type 'list'",
     "output_type": "error",
     "traceback": [
      "\u001b[0;31m---------------------------------------------------------------------------\u001b[0m",
      "\u001b[0;31mTypeError\u001b[0m                                 Traceback (most recent call last)",
      "\u001b[0;32m<ipython-input-43-5ce98ca3c6a8>\u001b[0m in \u001b[0;36m<module>\u001b[0;34m\u001b[0m\n\u001b[1;32m      1\u001b[0m \u001b[0;31m# I have not seen this before. Before I executed the code I\u001b[0m\u001b[0;34m\u001b[0m\u001b[0;34m\u001b[0m\u001b[0;34m\u001b[0m\u001b[0m\n\u001b[1;32m      2\u001b[0m \u001b[0;31m# hypothesized it would return a 2 x 2 matrix. Nope. Type Error\u001b[0m\u001b[0;34m\u001b[0m\u001b[0;34m\u001b[0m\u001b[0;34m\u001b[0m\u001b[0m\n\u001b[0;32m----> 3\u001b[0;31m \u001b[0;34m[\u001b[0m\u001b[0;36m1\u001b[0m\u001b[0;34m]\u001b[0m \u001b[0;34m*\u001b[0m \u001b[0;34m[\u001b[0m\u001b[0;36m2\u001b[0m\u001b[0;34m]\u001b[0m\u001b[0;34m\u001b[0m\u001b[0;34m\u001b[0m\u001b[0m\n\u001b[0m",
      "\u001b[0;31mTypeError\u001b[0m: can't multiply sequence by non-int of type 'list'"
     ]
    }
   ],
   "source": [
    "# I have not seen this before. Before I executed the code I \n",
    "# hypothesized it would return a 2 x 2 matrix. Nope. Type Error\n",
    "[1] * [2]"
   ]
  },
  {
   "cell_type": "code",
   "execution_count": 45,
   "metadata": {},
   "outputs": [
    {
     "data": {
      "text/plain": [
       "True"
      ]
     },
     "execution_count": 45,
     "metadata": {},
     "output_type": "execute_result"
    }
   ],
   "source": [
    "# This evaluates to True because a empty list is exactly equal to\n",
    "# an empty list\n",
    "[] + [] == []"
   ]
  },
  {
   "cell_type": "code",
   "execution_count": 47,
   "metadata": {
    "scrolled": true
   },
   "outputs": [
    {
     "ename": "TypeError",
     "evalue": "unsupported operand type(s) for +: 'dict' and 'dict'",
     "output_type": "error",
     "traceback": [
      "\u001b[0;31m---------------------------------------------------------------------------\u001b[0m",
      "\u001b[0;31mTypeError\u001b[0m                                 Traceback (most recent call last)",
      "\u001b[0;32m<ipython-input-47-34c286279acd>\u001b[0m in \u001b[0;36m<module>\u001b[0;34m\u001b[0m\n\u001b[1;32m      1\u001b[0m \u001b[0;31m# This will return a Type Error because dicts have their own\u001b[0m\u001b[0;34m\u001b[0m\u001b[0;34m\u001b[0m\u001b[0;34m\u001b[0m\u001b[0m\n\u001b[1;32m      2\u001b[0m \u001b[0;31m# addition syntax\u001b[0m\u001b[0;34m\u001b[0m\u001b[0;34m\u001b[0m\u001b[0;34m\u001b[0m\u001b[0m\n\u001b[0;32m----> 3\u001b[0;31m \u001b[0;34m{\u001b[0m\u001b[0;34m}\u001b[0m \u001b[0;34m+\u001b[0m \u001b[0;34m{\u001b[0m\u001b[0;34m}\u001b[0m\u001b[0;34m\u001b[0m\u001b[0;34m\u001b[0m\u001b[0m\n\u001b[0m",
      "\u001b[0;31mTypeError\u001b[0m: unsupported operand type(s) for +: 'dict' and 'dict'"
     ]
    }
   ],
   "source": [
    "# This will return a Type Error because dicts have their own\n",
    "# 'addition' method.\n",
    "{} + {}"
   ]
  },
  {
   "cell_type": "code",
   "execution_count": null,
   "metadata": {},
   "outputs": [],
   "source": []
  },
  {
   "cell_type": "code",
   "execution_count": null,
   "metadata": {},
   "outputs": [],
   "source": []
  },
  {
   "cell_type": "code",
   "execution_count": null,
   "metadata": {},
   "outputs": [],
   "source": []
  }
 ],
 "metadata": {
  "kernelspec": {
   "display_name": "Python 3",
   "language": "python",
   "name": "python3"
  },
  "language_info": {
   "codemirror_mode": {
    "name": "ipython",
    "version": 3
   },
   "file_extension": ".py",
   "mimetype": "text/x-python",
   "name": "python",
   "nbconvert_exporter": "python",
   "pygments_lexer": "ipython3",
   "version": "3.7.6"
  }
 },
 "nbformat": 4,
 "nbformat_minor": 4
}
