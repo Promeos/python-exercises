{
 "cells": [
  {
   "cell_type": "markdown",
   "metadata": {},
   "source": [
    "## 1. Conditional Basics\n",
    "\n",
    "> __A__. Prompt the user for a day of the week, print out whether the day is Monday or not."
   ]
  },
  {
   "cell_type": "code",
   "execution_count": 36,
   "metadata": {},
   "outputs": [
    {
     "name": "stdout",
     "output_type": "stream",
     "text": [
      "Top of the morning young person, is it Monday? (y/n): y\n",
      "It's Monday!\n"
     ]
    }
   ],
   "source": [
    "question = \"Top of the morning young person, is it Monday? (y/n): \"\n",
    "response = input(question)\n",
    "\n",
    "is_monday = response.lower() == 'y'\n",
    "\n",
    "if is_monday:\n",
    "    print(\"It's Monday!\")\n",
    "else:\n",
    "    print(\"It's not Monday\")"
   ]
  },
  {
   "cell_type": "markdown",
   "metadata": {},
   "source": [
    "> __B__. Prompt the user for a day of the week, print out whether the day is a weekday or a weekend."
   ]
  },
  {
   "cell_type": "code",
   "execution_count": 40,
   "metadata": {},
   "outputs": [
    {
     "name": "stdout",
     "output_type": "stream",
     "text": [
      "Top of the morning young person, what day of the week is it?: Saturday\n",
      "It's the weekend. DO WORK. ADD. COMMIT. PUSH. REPEAT\n"
     ]
    }
   ],
   "source": [
    "question = \"Top of the morning young person, what day of the week is it?: \"\n",
    "response = input(question)\n",
    "\n",
    "is_weekend = response.lower() in ('saturday', 'sunday')\n",
    "\n",
    "if is_weekend:\n",
    "    print(\"It's a weekend. DO WORK. ADD. COMMIT. PUSH. REPEAT\")\n",
    "elif not is_weekend:\n",
    "    print(\"It's a week day. DO WORK. ADD. COMMIT. PUSH. REPEAT\")\n",
    "else:\n",
    "    return None"
   ]
  },
  {
   "cell_type": "markdown",
   "metadata": {},
   "source": [
    "> __C__. Create variables and make up values for\n",
    "    - the number of hours worked in one week\n",
    "    - the hourly rate\n",
    "    - how much the week's paycheck will be"
   ]
  },
  {
   "cell_type": "code",
   "execution_count": 47,
   "metadata": {},
   "outputs": [
    {
     "name": "stdout",
     "output_type": "stream",
     "text": [
      "Your gross earnings this week: $24000. **Happy crying noises\n"
     ]
    }
   ],
   "source": [
    "number_of_hours = 60\n",
    "HOURLY_RATE = 400\n",
    "\n",
    "weekly_paycheck = number_of_hours * HOURLY_RATE\n",
    "\n",
    "print(f\"Your gross earnings this week: ${weekly_paycheck}. **Happy crying noises\")"
   ]
  },
  {
   "cell_type": "markdown",
   "metadata": {},
   "source": [
    "> __D__. Write the python code that calculates the weekly paycheck. You get paid time and a half if you work more than 40 hours"
   ]
  },
  {
   "cell_type": "code",
   "execution_count": 50,
   "metadata": {},
   "outputs": [
    {
     "name": "stdout",
     "output_type": "stream",
     "text": [
      "$36000.0\n"
     ]
    }
   ],
   "source": [
    "over_time = (number_of_hours - 40) * (1.5 * HOURLY_RATE)\n",
    "over_40_hours = number_of_hours > 40\n",
    "\n",
    "weekly_paycheck_with_over_time = weekly_paycheck + over_time\n",
    "\n",
    "if over_40_hours:\n",
    "    print(f'${weekly_paycheck_with_over_time}')\n",
    "else:\n",
    "    print(f'{weekly_paycheck}')"
   ]
  },
  {
   "cell_type": "markdown",
   "metadata": {},
   "source": [
    "## 2. Loop Basics\n",
    "\n",
    "> A. While\n",
    "    - Create an integer variable i with a value of 5.\n",
    "    - Create a while loop that runs so long as i is less than or equal to 15\n",
    "    - Each loop iteration, output the current value of i, then increment i by one."
   ]
  },
  {
   "cell_type": "code",
   "execution_count": 31,
   "metadata": {},
   "outputs": [
    {
     "name": "stdout",
     "output_type": "stream",
     "text": [
      "5\n",
      "6\n",
      "7\n",
      "8\n",
      "9\n",
      "10\n",
      "11\n",
      "12\n",
      "13\n",
      "14\n",
      "15\n"
     ]
    }
   ],
   "source": [
    "i = 5\n",
    "\n",
    "# I learned about one line while statements. It reads like a sentence.\n",
    "# ZOP: I will use this syntax for readability. Flat is better than nested.\n",
    "while i <= 15: print(i); i += 1"
   ]
  },
  {
   "cell_type": "markdown",
   "metadata": {},
   "source": [
    "> -Create a while loop that will count by 2's starting with 0 and ending at 100. Follow each number with a new line."
   ]
  },
  {
   "cell_type": "code",
   "execution_count": 32,
   "metadata": {},
   "outputs": [
    {
     "name": "stdout",
     "output_type": "stream",
     "text": [
      "0\n",
      "2\n",
      "4\n",
      "6\n",
      "8\n",
      "10\n",
      "12\n",
      "14\n",
      "16\n",
      "18\n",
      "20\n",
      "22\n",
      "24\n",
      "26\n",
      "28\n",
      "30\n",
      "32\n",
      "34\n",
      "36\n",
      "38\n",
      "40\n",
      "42\n",
      "44\n",
      "46\n",
      "48\n",
      "50\n",
      "52\n",
      "54\n",
      "56\n",
      "58\n",
      "60\n",
      "62\n",
      "64\n",
      "66\n",
      "68\n",
      "70\n",
      "72\n",
      "74\n",
      "76\n",
      "78\n",
      "80\n",
      "82\n",
      "84\n",
      "86\n",
      "88\n",
      "90\n",
      "92\n",
      "94\n",
      "96\n",
      "98\n",
      "100\n"
     ]
    }
   ],
   "source": [
    "# create a variable to store starting value\n",
    "number = 0\n",
    "\n",
    "while number < 101:\n",
    "    if number % 2 == 0:\n",
    "        print(number)\n",
    "    number += 1"
   ]
  },
  {
   "cell_type": "markdown",
   "metadata": {},
   "source": [
    "> Alter your loop to count backwards by 5's from 100 to -10."
   ]
  },
  {
   "cell_type": "code",
   "execution_count": 35,
   "metadata": {},
   "outputs": [
    {
     "name": "stdout",
     "output_type": "stream",
     "text": [
      "100\n",
      "95\n",
      "90\n",
      "85\n",
      "80\n",
      "75\n",
      "70\n",
      "65\n",
      "60\n",
      "55\n",
      "50\n",
      "45\n",
      "40\n",
      "35\n",
      "30\n",
      "25\n",
      "20\n",
      "15\n",
      "10\n",
      "5\n",
      "0\n",
      "-5\n",
      "-10\n"
     ]
    }
   ],
   "source": [
    "number = 100\n",
    "\n",
    "while number > -11 and number < 101:\n",
    "    if number % 5 == 0:\n",
    "        print(number)\n",
    "    # This while loop will always be divisible by 5 because the starting\n",
    "    # variable is a multiple of 5. I'm questioning indenting the subtraction assignment\n",
    "    # to fit inside the if statement.\n",
    "    number -= 5"
   ]
  },
  {
   "cell_type": "code",
   "execution_count": 12,
   "metadata": {},
   "outputs": [],
   "source": [
    "# I learned something new!\n",
    "# number = 100\n",
    "\n",
    "# If I assign a compound conditional statement to a variable, it stores the condition\n",
    "# A while loop only 'sees' while True or while False! Cue infinite loops.\n",
    "# is_in_between = number > -11 and number < 101\n",
    "\n",
    "# while is_in_between\n",
    "#     if number % 5 == 0:\n",
    "#         print(('{}\\n').format(number))\n",
    "#     number -= 5"
   ]
  },
  {
   "cell_type": "markdown",
   "metadata": {},
   "source": [
    "> Create a while loop that starts at 2, and displays the number squared on each line while\n",
    "the number is less than 1,000,000. Output should equal:"
   ]
  },
  {
   "cell_type": "code",
   "execution_count": 29,
   "metadata": {},
   "outputs": [
    {
     "name": "stdout",
     "output_type": "stream",
     "text": [
      "2\n",
      "4\n",
      "16\n",
      "256\n",
      "65536\n"
     ]
    }
   ],
   "source": [
    "number = 2\n",
    "MAX_LIMIT = 1_000_000\n",
    "\n",
    "while number < MAX_LIMIT: print(number); number **= 2"
   ]
  },
  {
   "cell_type": "code",
   "execution_count": 30,
   "metadata": {},
   "outputs": [
    {
     "name": "stdout",
     "output_type": "stream",
     "text": [
      "100\n",
      "95\n",
      "90\n",
      "85\n",
      "80\n",
      "75\n",
      "70\n",
      "65\n",
      "60\n",
      "55\n",
      "50\n",
      "45\n",
      "40\n",
      "35\n",
      "30\n",
      "25\n",
      "20\n",
      "15\n",
      "10\n",
      "5\n"
     ]
    }
   ],
   "source": [
    "number = 100\n",
    "\n",
    "while number > 0: print(number); number -= 5"
   ]
  },
  {
   "cell_type": "markdown",
   "metadata": {},
   "source": [
    "> B. For Loops\n",
    "\n",
    "> Write some code that prompts the user for a number, then shows a multiplication table up through 10 for that number."
   ]
  },
  {
   "cell_type": "code",
   "execution_count": 49,
   "metadata": {},
   "outputs": [
    {
     "name": "stdout",
     "output_type": "stream",
     "text": [
      "Enter a number 1-10: 10\n",
      "10 X 1 = 10\n",
      "10 X 2 = 20\n",
      "10 X 3 = 30\n",
      "10 X 4 = 40\n",
      "10 X 5 = 50\n",
      "10 X 6 = 60\n",
      "10 X 7 = 70\n",
      "10 X 8 = 80\n",
      "10 X 9 = 90\n",
      "10 X 10 = 100\n"
     ]
    }
   ],
   "source": [
    "question = 'Enter a number 1-10: '\n",
    "response = int(input(question))\n",
    "\n",
    "for i in range(1,11):\n",
    "    print(f\"{response} X {i} = {response*i}\")"
   ]
  },
  {
   "cell_type": "markdown",
   "metadata": {},
   "source": [
    "> Create a for loop that uses print to create the output shown below. "
   ]
  },
  {
   "cell_type": "code",
   "execution_count": 47,
   "metadata": {},
   "outputs": [
    {
     "name": "stdout",
     "output_type": "stream",
     "text": [
      "1\n",
      "22\n",
      "333\n",
      "4444\n",
      "55555\n",
      "666666\n",
      "7777777\n",
      "88888888\n",
      "999999999\n"
     ]
    }
   ],
   "source": [
    "for i in range(1, 10): print(str(i)*i)"
   ]
  },
  {
   "cell_type": "markdown",
   "metadata": {},
   "source": [
    "> C. break and continue\n",
    "\n",
    "> Prompt the user for an odd number between 1 and 50. Use a loop and a break statement to continue prompting the user if they enter invalid input. (Hint: use the isdigit method on strings to determine this). Use a loop and the continue statement to output all the odd numbers between 1 and 50, except for the number the user entered."
   ]
  },
  {
   "cell_type": "code",
   "execution_count": 48,
   "metadata": {},
   "outputs": [
    {
     "name": "stdout",
     "output_type": "stream",
     "text": [
      "Enter an odd number between 1 and 50: \n",
      "Enter an odd number between 1 and 50: \n",
      "Enter an odd number between 1 and 50: \n",
      "Enter an odd number between 1 and 50: \n",
      "Enter an odd number between 1 and 50: \n",
      "Enter an odd number between 1 and 50: \n",
      "Enter an odd number between 1 and 50: a\n",
      "Enter an odd number between 1 and 50: 3\n",
      "\n",
      "Number to skip is: 3\n",
      "\n",
      "Here is an odd number: 1\n",
      "Zoinks! Skipping number 3\n",
      "Here is an odd number: 5\n",
      "Here is an odd number: 7\n",
      "Here is an odd number: 9\n",
      "Here is an odd number: 11\n",
      "Here is an odd number: 13\n",
      "Here is an odd number: 15\n",
      "Here is an odd number: 17\n",
      "Here is an odd number: 19\n",
      "Here is an odd number: 21\n",
      "Here is an odd number: 23\n",
      "Here is an odd number: 25\n",
      "Here is an odd number: 27\n",
      "Here is an odd number: 29\n",
      "Here is an odd number: 31\n",
      "Here is an odd number: 33\n",
      "Here is an odd number: 35\n",
      "Here is an odd number: 37\n",
      "Here is an odd number: 39\n",
      "Here is an odd number: 41\n",
      "Here is an odd number: 43\n",
      "Here is an odd number: 45\n",
      "Here is an odd number: 47\n",
      "Here is an odd number: 49\n"
     ]
    }
   ],
   "source": [
    "prompt = \"Enter an odd number between 1 and 50: \"\n",
    "\n",
    "while True:\n",
    "    number = input(prompt)\n",
    "    \n",
    "    if number.isdigit():\n",
    "        number = int(number)\n",
    "        if number > 1 and number < 50 and number % 2 != 0:\n",
    "            print((\"\\nNumber to skip is: {}\\n\").format(number))\n",
    "            for i in range(1, 50):\n",
    "                if i == number:\n",
    "                    print(f\"Zoinks! Skipping number {number}\")\n",
    "                elif i % 2 != 0:\n",
    "                    print(f\"Here is an odd number: {i}\")\n",
    "            break\n",
    "        else:\n",
    "            continue\n",
    "    else:\n",
    "        continue"
   ]
  },
  {
   "cell_type": "markdown",
   "metadata": {},
   "source": [
    "> __d__. The input function can be used to prompt for input and use that input in your python code. Prompt the user to enter a positive number and write a loop that counts from 0 to that number. (Hints: first make sure that the value the user entered is a valid number, also note that the input function returns a string, so you'll need to convert this to a numeric type.)"
   ]
  },
  {
   "cell_type": "code",
   "execution_count": 45,
   "metadata": {},
   "outputs": [
    {
     "name": "stdout",
     "output_type": "stream",
     "text": [
      "Enter a number: 20\n",
      "0\n",
      "1\n",
      "2\n",
      "3\n",
      "4\n",
      "5\n",
      "6\n",
      "7\n",
      "8\n",
      "9\n",
      "10\n",
      "11\n",
      "12\n",
      "13\n",
      "14\n",
      "15\n",
      "16\n",
      "17\n",
      "18\n",
      "19\n",
      "20\n"
     ]
    }
   ],
   "source": [
    "prompt = \"Enter a positive number: \"\n",
    "\n",
    "while True:\n",
    "    number = input(question)\n",
    "    \n",
    "    if number.isdigit() == True and int(number) > 0:\n",
    "        number = int(number)\n",
    "        for i in range(0, number + 1):\n",
    "            print(i)\n",
    "        break\n",
    "    else:\n",
    "        continue"
   ]
  },
  {
   "cell_type": "markdown",
   "metadata": {},
   "source": [
    "> __e__. Write a program that prompts the user for a positive integer. Next write a loop that prints out the numbers from the number the user entered down to 1."
   ]
  },
  {
   "cell_type": "code",
   "execution_count": 69,
   "metadata": {},
   "outputs": [
    {
     "name": "stdout",
     "output_type": "stream",
     "text": [
      "Enter a number: 5\n",
      "5\n",
      "4\n",
      "3\n",
      "2\n",
      "1\n"
     ]
    }
   ],
   "source": [
    "question = \"Enter a number: \"\n",
    "\n",
    "while True:\n",
    "    number = input(question)\n",
    "    \n",
    "    if number.isdigit() == True and int(number) > 0:\n",
    "        number = int(number)\n",
    "        for reducer in range(0, number):\n",
    "            print(number - reducer)\n",
    "        break\n",
    "    else:\n",
    "        continue"
   ]
  },
  {
   "cell_type": "markdown",
   "metadata": {},
   "source": [
    "## 3. Fizzbuzz\n",
    "\n",
    "> One of the most common interview questions for entry-level programmers is the FizzBuzz test. Developed by __Imran Ghory__, the test is designed to test basic looping and conditional logic skills.\n",
    "\n",
    "> Write a program that prints the numbers from 1 to 100.\n",
    "\n",
    "> For multiples of three print \"Fizz\" instead of the number\n",
    "\n",
    "> For the multiples of five print \"Buzz\".\n",
    "\n",
    "> For numbers which are multiples of both three and five print \"FizzBuzz\"."
   ]
  },
  {
   "cell_type": "code",
   "execution_count": 1,
   "metadata": {},
   "outputs": [
    {
     "name": "stdout",
     "output_type": "stream",
     "text": [
      "Fizz\n",
      "Buzz\n",
      "Fizz\n",
      "Fizz\n",
      "Buzz\n",
      "Fizz\n",
      "FizzBuzz\n",
      "Fizz\n",
      "Buzz\n",
      "Fizz\n",
      "Fizz\n",
      "Buzz\n",
      "Fizz\n",
      "FizzBuzz\n",
      "Fizz\n",
      "Buzz\n",
      "Fizz\n",
      "Fizz\n",
      "Buzz\n",
      "Fizz\n",
      "FizzBuzz\n",
      "Fizz\n",
      "Buzz\n",
      "Fizz\n",
      "Fizz\n",
      "Buzz\n",
      "Fizz\n",
      "FizzBuzz\n",
      "Fizz\n",
      "Buzz\n",
      "Fizz\n",
      "Fizz\n",
      "Buzz\n",
      "Fizz\n",
      "FizzBuzz\n",
      "Fizz\n",
      "Buzz\n",
      "Fizz\n",
      "Fizz\n",
      "Buzz\n",
      "Fizz\n",
      "FizzBuzz\n",
      "Fizz\n",
      "Buzz\n",
      "Fizz\n",
      "Fizz\n"
     ]
    }
   ],
   "source": [
    "for i in range(1, 100):\n",
    "    if i % 3 == 0 and i % 5 == 0:\n",
    "        print('FizzBuzz')\n",
    "    elif i % 3 == 0:\n",
    "        print('Fizz')\n",
    "    elif i % 5 == 0:\n",
    "        print('Buzz')"
   ]
  },
  {
   "cell_type": "markdown",
   "metadata": {},
   "source": [
    "## 4. Display a table of powers.\n",
    "\n",
    "> Prompt the user to enter an integer.\n",
    "\n",
    ">Display a table of squares and cubes from 1 to the value entered.\n",
    "\n",
    "> Ask if the user wants to continue.\n",
    "\n",
    "> Assume that the user will enter valid data.\n",
    "\n",
    "> Only continue if the user agrees to.\n"
   ]
  },
  {
   "cell_type": "code",
   "execution_count": 31,
   "metadata": {},
   "outputs": [
    {
     "name": "stdout",
     "output_type": "stream",
     "text": [
      "Let's get mathematical. Enter a number: 7\n",
      "\n",
      "Table of squared and cubed numbers.\n",
      "\n",
      "number | squared | cubed\n",
      "------ | ------- | -----\n",
      "1      | 1       | 1    \n",
      "2      | 4       | 8    \n",
      "3      | 9       | 27   \n",
      "4      | 16      | 64   \n",
      "5      | 25      | 125  \n",
      "6      | 36      | 216  \n",
      "7      | 49      | 343  \n"
     ]
    }
   ],
   "source": [
    "prompt = \"Let's get mathematical. Enter a number: \"\n",
    "\n",
    "while True:\n",
    "    number = input(prompt)\n",
    "    \n",
    "    if number.isdigit() and int(number) > 0:\n",
    "        number = int(number)\n",
    "\n",
    "        number_header_length = len('number')\n",
    "        squared_header_length = len('squared')\n",
    "        cubed_header_length = len('cubed')\n",
    "\n",
    "        table_format = \"{{:<{a}}} | {{:<{b}}} | {{:<{c}}}\".format(\n",
    "            a=number_header_length,\n",
    "            b=squared_header_length,\n",
    "            c=cubed_header_length\n",
    "            )\n",
    "        \n",
    "        print('\\nTable of squared and cubed numbers.\\n')\n",
    "        print((table_format).format('number',\n",
    "                                    'squared',\n",
    "                                    'cubed'\n",
    "                                    ))\n",
    "        print((table_format).format('-'*number_header_length,\n",
    "                                    '-'*squared_header_length,\n",
    "                                    '-'*cubed_header_length\n",
    "                                    ))\n",
    "\n",
    "        for i in range(1, number+1):\n",
    "            print((table_format).format(i, i**2, i**3))\n",
    "        break\n",
    "    else:\n",
    "        continue"
   ]
  },
  {
   "cell_type": "markdown",
   "metadata": {},
   "source": [
    "## 5. Convert given number grades into letter grades.\n",
    "- Prompt the user for a numerical grade from 0 to 100.\n",
    "- Display the corresponding letter grade.\n",
    "- Prompt the user to continue.\n",
    "- Assume that the user will enter valid integers for the grades.\n",
    "- The application should only continue if the user agrees to.\n",
    "\n",
    ">Grade Ranges:\n",
    " A : 100 - 88\n",
    " B : 87 - 80\n",
    " C : 79 - 67\n",
    " D : 66 - 60\n",
    " F : 59 - 0"
   ]
  },
  {
   "cell_type": "code",
   "execution_count": 43,
   "metadata": {},
   "outputs": [
    {
     "name": "stdout",
     "output_type": "stream",
     "text": [
      "Enter a grade from 0-100: 100\n",
      "The letter grade for 100 is A+\n",
      "\n",
      "Would you like to calcualte another grade? (y/n): y\n",
      "Enter a grade from 0-100: 79\n",
      "The letter grade for 79 is C+.\n",
      "\n",
      "Would you like to calcualte another grade? (y/n): n\n",
      "\n",
      "Ending grade calculations...\n"
     ]
    }
   ],
   "source": [
    "prompt = \"Enter a grade from 0-100: \"\n",
    "recalculate = 'y'\n",
    "\n",
    "while recalculate == 'y':\n",
    "    grade = input(prompt)\n",
    "    \n",
    "    is_between_zero_and_hundred = int(grade) >= 0 and int(grade) <= 100\n",
    "    \n",
    "    if grade.isdigit() and is_between_zero_and_hundred:\n",
    "        grade = int(grade)\n",
    "        if grade >= 99:\n",
    "            print(f\"The letter grade for {grade} is A+\")\n",
    "        elif grade >= 88:\n",
    "            print(f\"The letter grade for {grade} is A-.\")\n",
    "        elif grade >= 86:\n",
    "            print(f\"The letter grade for {grade} is B+.\")\n",
    "        elif grade >= 80:\n",
    "            print(f\"The letter grade for {grade} is B-.\")\n",
    "        elif grade >= 78:\n",
    "            print(f\"The letter grade for {grade} is C+.\")\n",
    "        elif grade >= 67:\n",
    "            print(f\"The letter grade for {grade} is C-.\")\n",
    "        elif grade >= 65:\n",
    "            print(f\"The letter grade for {grade} is D+.\")\n",
    "        elif grade >= 60:\n",
    "            print(f\"The letter grade for {grade} is D-.\")\n",
    "        elif grade >= 0:\n",
    "            print(f\"The letter grade for {grade} is F.\")\n",
    "            \n",
    "        response = input(\"\\nWould you like to calcualte another grade? (y/n): \")\n",
    "        \n",
    "        if response.lower() == recalculate:\n",
    "            continue\n",
    "        else:\n",
    "            print(\"\\nEnding grade calculations...\")\n",
    "            recalculate = response\n",
    "        \n",
    "    else:\n",
    "        continue"
   ]
  },
  {
   "cell_type": "markdown",
   "metadata": {},
   "source": [
    "## 6. Create a list of dictionaries where each dictionary represents a book that you have read.\n",
    "\n",
    "> Each dictionary in the list should have: keys title, author, and genre. \n",
    "\n",
    "> Loop through the list and print out information about each book.\n",
    "\n",
    "> Prompt the user to enter a genre, then loop through your books list and print out the titles of all the books in that genre.\n",
    "\n"
   ]
  },
  {
   "cell_type": "code",
   "execution_count": null,
   "metadata": {},
   "outputs": [],
   "source": []
  },
  {
   "cell_type": "code",
   "execution_count": null,
   "metadata": {},
   "outputs": [],
   "source": []
  },
  {
   "cell_type": "code",
   "execution_count": null,
   "metadata": {},
   "outputs": [],
   "source": []
  },
  {
   "cell_type": "code",
   "execution_count": null,
   "metadata": {},
   "outputs": [],
   "source": []
  },
  {
   "cell_type": "code",
   "execution_count": null,
   "metadata": {},
   "outputs": [],
   "source": []
  },
  {
   "cell_type": "code",
   "execution_count": null,
   "metadata": {},
   "outputs": [],
   "source": []
  },
  {
   "cell_type": "code",
   "execution_count": null,
   "metadata": {},
   "outputs": [],
   "source": []
  },
  {
   "cell_type": "code",
   "execution_count": null,
   "metadata": {},
   "outputs": [],
   "source": []
  },
  {
   "cell_type": "code",
   "execution_count": null,
   "metadata": {},
   "outputs": [],
   "source": []
  },
  {
   "cell_type": "code",
   "execution_count": null,
   "metadata": {},
   "outputs": [],
   "source": []
  },
  {
   "cell_type": "code",
   "execution_count": null,
   "metadata": {},
   "outputs": [],
   "source": []
  },
  {
   "cell_type": "code",
   "execution_count": null,
   "metadata": {},
   "outputs": [],
   "source": []
  },
  {
   "cell_type": "code",
   "execution_count": null,
   "metadata": {},
   "outputs": [],
   "source": []
  },
  {
   "cell_type": "code",
   "execution_count": null,
   "metadata": {},
   "outputs": [],
   "source": []
  },
  {
   "cell_type": "code",
   "execution_count": null,
   "metadata": {},
   "outputs": [],
   "source": []
  },
  {
   "cell_type": "code",
   "execution_count": null,
   "metadata": {},
   "outputs": [],
   "source": []
  },
  {
   "cell_type": "code",
   "execution_count": null,
   "metadata": {},
   "outputs": [],
   "source": []
  }
 ],
 "metadata": {
  "kernelspec": {
   "display_name": "Python 3",
   "language": "python",
   "name": "python3"
  },
  "language_info": {
   "codemirror_mode": {
    "name": "ipython",
    "version": 3
   },
   "file_extension": ".py",
   "mimetype": "text/x-python",
   "name": "python",
   "nbconvert_exporter": "python",
   "pygments_lexer": "ipython3",
   "version": "3.7.6"
  }
 },
 "nbformat": 4,
 "nbformat_minor": 4
}
