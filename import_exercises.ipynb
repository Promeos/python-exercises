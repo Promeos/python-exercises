{
 "cells": [
  {
   "cell_type": "markdown",
   "metadata": {},
   "source": [
    "## 1. \n",
    "> Import and test 3 of the functions from your functions exercise file.\n"
   ]
  },
  {
   "cell_type": "code",
   "execution_count": 1,
   "metadata": {},
   "outputs": [
    {
     "name": "stdout",
     "output_type": "stream",
     "text": [
      "True\n",
      "True\n",
      "False\n",
      "a is a vowel: True\n",
      "A is a vowel: True\n",
      "This sentence is a vowel: False\n",
      "G is a vowel: False\n",
      "P is a vowel: False\n",
      "a is a consonant: False\n",
      "A is a consonant: False\n",
      "This sentence is a consonant: False\n",
      "G is a consonant: True\n",
      "P is a consonant: True\n",
      "House\n",
      "Reddit\n",
      "100000000\n",
      "100000000000000000000\n",
      "A\n",
      "D\n",
      "None\n",
      "Hs\n",
      "Bg Chs\n",
      "christopher_12345\n",
      "Come up with another variable name. That is a Python KEYWORD!\n",
      "[1, 3, 6, 10, 15, 21, 28, 36, 45, 55]\n",
      "[2, 8, 16, 18, 74, 108, 115, 123]\n",
      "15:00\n"
     ]
    }
   ],
   "source": [
    "import function_exercises"
   ]
  },
  {
   "cell_type": "markdown",
   "metadata": {},
   "source": [
    "> Import the module and refer to the function with the `.` syntax."
   ]
  },
  {
   "cell_type": "code",
   "execution_count": 2,
   "metadata": {},
   "outputs": [
    {
     "data": {
      "text/plain": [
       "True"
      ]
     },
     "execution_count": 2,
     "metadata": {},
     "output_type": "execute_result"
    }
   ],
   "source": [
    "function_exercises.is_two('2')"
   ]
  },
  {
   "cell_type": "markdown",
   "metadata": {},
   "source": [
    "> use `from` to import the function directly."
   ]
  },
  {
   "cell_type": "code",
   "execution_count": 3,
   "metadata": {},
   "outputs": [
    {
     "data": {
      "text/plain": [
       "'Ths s  sntnc wth vwls rmvd!'"
      ]
     },
     "execution_count": 3,
     "metadata": {},
     "output_type": "execute_result"
    }
   ],
   "source": [
    "from function_exercises import remove_vowels\n",
    "remove_vowels('This is a sentence with vowels removed!')"
   ]
  },
  {
   "cell_type": "markdown",
   "metadata": {},
   "source": [
    "> Use `from` and give the function a different name."
   ]
  },
  {
   "cell_type": "code",
   "execution_count": 4,
   "metadata": {},
   "outputs": [
    {
     "data": {
      "text/plain": [
       "'12:00'"
      ]
     },
     "execution_count": 4,
     "metadata": {},
     "output_type": "execute_result"
    }
   ],
   "source": [
    "from function_exercises import twelveto24 as military_time\n",
    "military_time(\"12:00pm\")"
   ]
  },
  {
   "cell_type": "markdown",
   "metadata": {},
   "source": [
    "## 1. \n",
    "> How many different ways can you combine the letter from \"abc\" with the numbers 1, 2, 3?"
   ]
  },
  {
   "cell_type": "code",
   "execution_count": 5,
   "metadata": {},
   "outputs": [],
   "source": [
    "import itertools"
   ]
  },
  {
   "cell_type": "code",
   "execution_count": 6,
   "metadata": {},
   "outputs": [
    {
     "name": "stdout",
     "output_type": "stream",
     "text": [
      "The total number of combinations of ABC 1,2,3 is: 9.\n"
     ]
    }
   ],
   "source": [
    "combinations_ABC123 = list(itertools.product('ABC', '123'))\n",
    "\n",
    "print(f'The total number of combinations of ABC 1,2,3 is: {len(combinations_ABC123)}.')"
   ]
  },
  {
   "cell_type": "markdown",
   "metadata": {},
   "source": [
    "## 2.\n",
    "> How many different ways can you combine two of the letters from \"abcd\"?"
   ]
  },
  {
   "cell_type": "code",
   "execution_count": 7,
   "metadata": {},
   "outputs": [
    {
     "name": "stdout",
     "output_type": "stream",
     "text": [
      "The total number of 2 group combinations of 'abcd' is 6\n"
     ]
    }
   ],
   "source": [
    "combinations_of_2_abcd = list(itertools.combinations(\"abcd\", 2))\n",
    "\n",
    "print(f\"The total number of 2 group combinations of 'abcd' is {len(combinations_of_2_abcd)}\")"
   ]
  },
  {
   "cell_type": "code",
   "execution_count": 8,
   "metadata": {},
   "outputs": [],
   "source": [
    "# I import more_itertools and re modules to utilize the use of 'packaged' tools\n",
    "# I don't know how they all work. Before I use a function I read its docstring to\n",
    "# understand what the function does. If I need a visual aid, I'll look into the exocortex\n",
    "# By testing, debugging, and incorporating them into my code I understand how they\n",
    "# work a little bit more.\n",
    "import json\n",
    "import more_itertools\n",
    "import re"
   ]
  },
  {
   "cell_type": "code",
   "execution_count": 9,
   "metadata": {},
   "outputs": [
    {
     "name": "stdout",
     "output_type": "stream",
     "text": [
      "<class 'dict'>\n",
      "{'_id': '54e23c3e46ab53a440b580e8', 'index': 0, 'guid': '9962b468-ef3e-4993-b677-617469bc3008', 'isActive': False, 'balance': '$2,097.02', 'picture': 'http://placehold.it/32x32', 'age': 39, 'eyeColor': 'blue', 'name': 'Hebert Estes', 'gender': 'male', 'company': 'ANDRYX', 'email': 'hebertestes@andryx.com', 'phone': '+1 (866) 456-2268', 'address': '121 Emmons Avenue, Klondike, Kentucky, 5975', 'about': 'Sit cillum deserunt irure laboris tempor fugiat laboris. Amet commodo amet est incididunt. Dolore qui fugiat cillum pariatur dolore excepteur elit ipsum.\\r\\n', 'registered': '2014-11-10T01:44:03 +06:00', 'latitude': -80.157843, 'longitude': 161.93016, 'tags': ['sit', 'occaecat', 'non', 'ea', 'sit', 'laboris', 'exercitation'], 'friends': [{'id': 0, 'name': 'Tanisha Leonard'}, {'id': 1, 'name': 'Dennis Wilson'}, {'id': 2, 'name': 'Lupe Howe'}], 'greeting': 'Hello, Hebert Estes! You have 4 unread messages.', 'favoriteFruit': 'strawberry'}\n"
     ]
    }
   ],
   "source": [
    "profiles_json = json.load(open('profiles.json'))\n",
    "\n",
    "# Print out data type, key, and value information from profiles.json\n",
    "print(type(profiles_json[0]))\n",
    "print(profiles_json[0])"
   ]
  },
  {
   "cell_type": "markdown",
   "metadata": {},
   "source": [
    "> Total number of users"
   ]
  },
  {
   "cell_type": "code",
   "execution_count": 10,
   "metadata": {},
   "outputs": [],
   "source": [
    "# Learned something new: You cannot place an inline comment with a ? helper.\n",
    "# Counts the entire length of an iterable.\n",
    "more_itertools.ilen?\n",
    "# Counts the number True's in an iterable. Return a single value of type int.\n",
    "more_itertools.quantify?"
   ]
  },
  {
   "cell_type": "code",
   "execution_count": 11,
   "metadata": {},
   "outputs": [
    {
     "name": "stdout",
     "output_type": "stream",
     "text": [
      "There are 19 users.\n"
     ]
    }
   ],
   "source": [
    "# I can use the ilen function from the more_itertools\n",
    "# to find the length of an interable\n",
    "total_profiles = more_itertools.ilen(profiles_json)\n",
    "print(f\"There are {total_profiles} users.\")"
   ]
  },
  {
   "cell_type": "markdown",
   "metadata": {},
   "source": [
    "> Number of active users\n",
    "> Number of inactive users"
   ]
  },
  {
   "cell_type": "code",
   "execution_count": 340,
   "metadata": {},
   "outputs": [
    {
     "name": "stdout",
     "output_type": "stream",
     "text": [
      "Number of active users: 9\n",
      "Number of inactive users 10\n"
     ]
    }
   ],
   "source": [
    "# I use a list comprehension and store of all values=[True\\False] from key='isActive'.\n",
    "is_active = [status['isActive'] for status in profiles_json]\n",
    "\n",
    "# I use a list comprehension to store only False values using key='isActive'\n",
    "# I stored active\\inactive users differently so I could practice using\n",
    "# the more_itertools module.\n",
    "is_inactive = [status['isActive'] for status in profiles_json if(\n",
    "    status['isActive'] != True)]\n",
    "\n",
    "# These two functions are from the more_itertools module.\n",
    "# more_itertools.quantify returns a single numeric value for all instances of bool->True\n",
    "# The value returned is of type int\n",
    "is_active_count = more_itertools.quantify(is_active)\n",
    "\n",
    "# more_itertools.ilen returns the length of the iterator.\n",
    "# `is_inactive` contains only False values. Like more_itertools.quantify\n",
    "# more_itertools.ilen returns a single numeric value of type int\n",
    "is_inactive_count = more_itertools.ilen(is_inactive)\n",
    "\n",
    "print(f\"Number of active users: {is_active_count}\")\n",
    "print(f\"Number of inactive users {is_inactive_count}\")"
   ]
  },
  {
   "cell_type": "markdown",
   "metadata": {},
   "source": [
    "> Grand total of all balance for all users"
   ]
  },
  {
   "cell_type": "code",
   "execution_count": 339,
   "metadata": {},
   "outputs": [
    {
     "name": "stdout",
     "output_type": "stream",
     "text": [
      "Grand total balance for all users: $52,667.02\n"
     ]
    }
   ],
   "source": [
    "# I use a list comprehension to 'pluck out' values from each user using key='balance'\n",
    "# Once I get that value, I need to remove the $ and , characters using regex.\n",
    "# After I remove those characters I can cast the value from str -> float.\n",
    "# Once the iteration is complete I have a list properly formatted float values.\n",
    "# I encapsulate the entire list comprehension inside a sum function. Summing all balances.\n",
    "# The function returns a single value which I store in `grand_total`\n",
    "grand_total = sum([float(\n",
    "    re.sub(r\"[$,]\", '', account['balance'])) for account in profiles_json])\n",
    "\n",
    "print((\"Grand total balance for all users: ${:,}\").format(grand_total))"
   ]
  },
  {
   "cell_type": "markdown",
   "metadata": {},
   "source": [
    "> Average balance per user"
   ]
  },
  {
   "cell_type": "code",
   "execution_count": 341,
   "metadata": {},
   "outputs": [
    {
     "name": "stdout",
     "output_type": "stream",
     "text": [
      "Average balance per user: $2,771.95\n"
     ]
    }
   ],
   "source": [
    "# I divide `grand_total` by `total_profiles` and round by 2\n",
    "# because were dealing with monetary values.\n",
    "avg_balance_per_user = round(grand_total/total_profiles, 2)\n",
    "\n",
    "print((\"Average balance per user: ${:,}\").format(avg_balance_per_user))"
   ]
  },
  {
   "cell_type": "markdown",
   "metadata": {},
   "source": [
    "> User with the lowest balance"
   ]
  },
  {
   "cell_type": "code",
   "execution_count": 311,
   "metadata": {},
   "outputs": [
    {
     "name": "stdout",
     "output_type": "stream",
     "text": [
      "User with the lowest balance: Avery Flynn --- $1,214.10\n"
     ]
    }
   ],
   "source": [
    "# Pack the user and user balance into a tuple.\n",
    "# If packed each tuple as (name, balance) the min function would sort by name ascending\n",
    "# Changing the order allows me to use the min function to find the lowest balance\n",
    "# and person name with the lowest balance.\n",
    "balance_and_name = [(person['balance'], person['name']) for person in profiles_json]\n",
    "\n",
    "# Unpack the tuple after the min function selects the lowest balance from \n",
    "# `balance_and_name`.\n",
    "lowest_balance, name_lowbal = min(balance_and_name)\n",
    "\n",
    "print(f\"User with the lowest balance: {name_lowbal} --- {lowest_balance}\")"
   ]
  },
  {
   "cell_type": "code",
   "execution_count": 310,
   "metadata": {},
   "outputs": [
    {
     "name": "stdout",
     "output_type": "stream",
     "text": [
      "User with the highest balance: Fay Hammond --- $3,919.64\n"
     ]
    }
   ],
   "source": [
    "# Utilizing the list of tuples, `balance_and_name` I can use the max function\n",
    "# to find the maximum balance of all users. Because I grouped the balance\n",
    "# and person name together, I need to unpack each tuple the same way I packed them.\n",
    "highest_balance, name_highbal = max(balance_and_name)\n",
    "\n",
    "print(f\"User with the highest balance: {name_highbal} --- {highest_balance}\")"
   ]
  },
  {
   "cell_type": "markdown",
   "metadata": {},
   "source": [
    "> Most common favorite fruit\n",
    "> Least common favorite fruit"
   ]
  },
  {
   "cell_type": "code",
   "execution_count": 328,
   "metadata": {},
   "outputs": [
    {
     "name": "stdout",
     "output_type": "stream",
     "text": [
      "Most common favorite fruit: strawberry --- 9\n",
      "Least common favorite fruit: apple --- 4\n"
     ]
    }
   ],
   "source": [
    "# I use a list comprehension to 'pluck out' all fruits using key=`favoriteFruit`.\n",
    "favorite_fruits = [person['favoriteFruit'] for person in profiles_json]\n",
    "\n",
    "# I use the set function to see unique `favoriteFruit` values in the dataset.\n",
    "# print(set(favorite_fruits)) ---- 'banana', 'strawberry', 'apple'\n",
    "\n",
    "# I used the count string method to count the instances of each fruit name.\n",
    "total_bananas = favorite_fruits.count('banana')\n",
    "total_strawberries = favorite_fruits.count('strawberry')\n",
    "total_apples = favorite_fruits.count('apple')\n",
    "# Display the value of each fruit counted\n",
    "# print(total_bananas, total_strawberries, total_apples) banana-6, strawberry-9, apple-4\n",
    "\n",
    "print(f\"Most common favorite fruit: strawberry --- {total_strawberries}\")\n",
    "print(f\"Least common favorite fruit: apple --- {total_apples}\")"
   ]
  },
  {
   "cell_type": "markdown",
   "metadata": {},
   "source": [
    "> Total number of unread messages for all users"
   ]
  },
  {
   "cell_type": "code",
   "execution_count": 336,
   "metadata": {},
   "outputs": [
    {
     "name": "stdout",
     "output_type": "stream",
     "text": [
      "Total number of unread messages for all users: 210\n"
     ]
    }
   ],
   "source": [
    "# \\D in regular expression notation finds all non digit character.\n",
    "# 1)I use re.sub to find all non digits in greeting [str] and remove them, leaving numbers.\n",
    "# 2)I pack the re.sub function inside an int function to cast the number from str -> int\n",
    "# I place the function in a list comprehesion, where on each iteration it repeats 1 and 2\n",
    "# After the iteration I pack the list comprehension in a sum function to calculate the\n",
    "# total number of unread messages.\n",
    "total_unread_messages = sum([int(\n",
    "    re.sub(\"\\D\", '', person['greeting'])) for person in profiles_json])\n",
    "\n",
    "print(f\"Total number of unread messages for all users: {total_unread_messages}\")"
   ]
  }
 ],
 "metadata": {
  "kernelspec": {
   "display_name": "Python 3",
   "language": "python",
   "name": "python3"
  },
  "language_info": {
   "codemirror_mode": {
    "name": "ipython",
    "version": 3
   },
   "file_extension": ".py",
   "mimetype": "text/x-python",
   "name": "python",
   "nbconvert_exporter": "python",
   "pygments_lexer": "ipython3",
   "version": "3.7.6"
  }
 },
 "nbformat": 4,
 "nbformat_minor": 4
}
